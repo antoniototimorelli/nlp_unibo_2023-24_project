{
 "cells": [
  {
   "cell_type": "markdown",
   "id": "7b32ce4d-112a-4c2b-814b-7925eee97ce5",
   "metadata": {},
   "source": [
    "# Experiment 2 - Relations\n",
    "\n",
    "Now that we have our model capable of detecting components, let us move on to estimating the number of relations. Initially, we considered splitting each abstract into sentences and labeling all possible combinations of sentences as either `No related` or `Related`, corresponding to 0 and 1, respectively. However, this led to an imbalanced and overly difficult task, as the majority of sentence pairs were unrelated. \n",
    "\n",
    "To address this, we approached the problem differently. Instead of trying to predict relationships between all possible sentence pairs, we reformulated the task to focus on the components directly. Specifically, we label each component as either *In a relationship* or *Not in a relationship*. A component is considered *In a relationship* if it serves as the first member (*source*) of at least one relation, and *Not in a relationship* otherwise. \n",
    "Consider the following annotation:\n",
    "\n",
    "    R1\tPartial-Attack Arg1:T10 Arg2:T11\t\n",
    "    R2\tSupport Arg1:T8 Arg2:T9\t\n",
    "    R3\tSupport Arg1:T7 Arg2:T10\t\n",
    "    R4\tSupport Arg1:T6 Arg2:T10\t\n",
    "    R5\tSupport Arg1:T5 Arg2:T9\t\n",
    "    R6\tSupport Arg1:T2 Arg2:T4\t\n",
    "    R7\tPartial-Attack Arg1:T3 Arg2:T4\t\n",
    "    R8\tPartial-Attack Arg1:T1 Arg2:T4\t\n",
    "\n",
    "In this annotation, there are eight relations, corresponding to the `R1` through `R8` entries. Each relation has a source, marked as `Arg1`, and a target, marked as `Arg2`. For example, in `R1`, `T10` is the source, and `T11` is the target. Using this information, we label components based on whether they appear as `Arg1` in any relation. Components like `T1`, `T2`, `T3`, `T5`, `T6`, `T7`, `T8`, and `T10` are labeled as `Relationship` (1), while components like `T4`, `T9`, and `T11` are labeled as `Not relationship` (0), as well as non-components. This reformulation simplifies the task from predicting relationships between pairs of sentences to predicting whether a given component participates in an outgoing relationship."
   ]
  },
  {
   "cell_type": "code",
   "execution_count": null,
   "id": "1ee6643c-ae6d-4d48-ad83-18f6eb1638bd",
   "metadata": {},
   "outputs": [
    {
     "name": "stderr",
     "output_type": "stream",
     "text": [
      "C:\\Users\\Antonio\\anaconda3\\envs\\NLP\\Lib\\site-packages\\tqdm\\auto.py:21: TqdmWarning: IProgress not found. Please update jupyter and ipywidgets. See https://ipywidgets.readthedocs.io/en/stable/user_install.html\n",
      "  from .autonotebook import tqdm as notebook_tqdm\n",
      "[nltk_data] Downloading package punkt to\n",
      "[nltk_data]     C:\\Users\\Antonio\\AppData\\Roaming\\nltk_data...\n",
      "[nltk_data]   Package punkt is already up-to-date!\n",
      "[nltk_data] Downloading package punkt_tab to\n",
      "[nltk_data]     C:\\Users\\Antonio\\AppData\\Roaming\\nltk_data...\n",
      "[nltk_data]   Package punkt_tab is already up-to-date!\n"
     ]
    }
   ],
   "source": [
    "from experiment_2_code import *"
   ]
  },
  {
   "cell_type": "markdown",
   "id": "6ff4b71a-b9f7-4394-ae94-5678e5c8fd67",
   "metadata": {},
   "source": [
    "### 1. Preprocessing\n",
    "Here we preprocess our data by splitting the abstracts into sentences. Each combination of two sentences is then labeled as either being a `Relationship`, labeled as `1`, or `Not relationship`, labeled as `0`."
   ]
  },
  {
   "cell_type": "code",
   "execution_count": 10,
   "id": "471b1a98-8b85-4454-bafe-31ed4ad14d12",
   "metadata": {},
   "outputs": [
    {
     "name": "stdout",
     "output_type": "stream",
     "text": [
      "It happens 24 times that a component is already in a relation in neoplasm_train.\n",
      "It happens 4 times that a component is already in a relation in neoplasm_dev.\n",
      "It happens 21 times that a component is already in a relation in glaucoma_test.\n",
      "It happens 5 times that a component is already in a relation in neoplasm_test.\n",
      "It happens 9 times that a component is already in a relation in mixed_test.\n"
     ]
    }
   ],
   "source": [
    "train_set = read_brat_dataset('../data/train/neoplasm_train') \n",
    "val_set = read_brat_dataset('../data/dev/neoplasm_dev')\n",
    "\n",
    "glaucoma_test = read_brat_dataset('../data/test/glaucoma_test')\n",
    "neoplasm_test = read_brat_dataset('../data/test/neoplasm_test')\n",
    "mixed_test = read_brat_dataset('../data/test/mixed_test')\n",
    "\n",
    "test_set = glaucoma_test + neoplasm_test + mixed_test"
   ]
  },
  {
   "cell_type": "code",
   "execution_count": 11,
   "id": "f6a2cffa-f391-4e11-bbe0-32124242d23b",
   "metadata": {},
   "outputs": [
    {
     "name": "stdout",
     "output_type": "stream",
     "text": [
      "- Train set:\n",
      "\tLabel 0: 3251 samples\n",
      "\tLabel 1: 1394 samples\n",
      "\n",
      "\tThere are 2 different labels in the train set -> [0, 1]\n",
      "\tAverage number of sentences per file in train set: 13\n",
      "\tMax sentence length: 107\n",
      "\tAverage relationships per file: 4.06\n",
      "\tAverage no relationships per file: 9.29\n",
      "\n",
      "- Test set:\n",
      "\tLabel 0: 2743 samples\n",
      "\tLabel 1: 1085 samples\n",
      "\n",
      "\tThere are 2 different labels in the test set -> [0, 1]\n",
      "\tAverage number of sentences per file in test set: 14\n",
      "\tMax sentence length: 91\n",
      "\tAverage relationships per file: 4.09\n",
      "\tAverage no relationships per file: 10.20\n",
      "\n"
     ]
    }
   ],
   "source": [
    "label_counts_train, avg_sentences_per_file_train = compute_dataset_statistics(train_set, dataset_name=\"train\")\n",
    "label_counts_test, avg_sentences_per_file_test = compute_dataset_statistics(test_set, dataset_name=\"test\")"
   ]
  },
  {
   "cell_type": "code",
   "execution_count": 12,
   "id": "14e4d204-eea2-4378-b97d-06bc31fddfe6",
   "metadata": {},
   "outputs": [],
   "source": [
    "train_collection = FilenameLabelledCollection([data['sentence'] for data in train_set], \n",
    "                                                 [data['label'] for data in train_set], \n",
    "                                                 [data['filename'] for data in train_set])\n",
    "\n",
    "# train_collection, val_collection = train_collection.split_stratified(0.7)\n",
    "# train_collection, val_collection = train_collection.split_stratified_by_filenames(0.75)\n",
    "val_collection = FilenameLabelledCollection([data['sentence'] for data in val_set], \n",
    "                                                 [data['label'] for data in val_set], \n",
    "                                                 [data['filename'] for data in val_set])\n",
    "\n",
    "test_collection = FilenameLabelledCollection([data['sentence'] for data in test_set], \n",
    "                                                 [data['label'] for data in test_set], \n",
    "                                                 [data['filename'] for data in test_set])\n",
    "\n",
    "glaucoma_collection = FilenameLabelledCollection([data['sentence'] for data in glaucoma_test], \n",
    "                                                 [data['label'] for data in glaucoma_test], \n",
    "                                                 [data['filename'] for data in glaucoma_test])\n",
    "\n",
    "neoplasm_collection = FilenameLabelledCollection([data['sentence'] for data in neoplasm_test], \n",
    "                                                 [data['label'] for data in neoplasm_test], \n",
    "                                                 [data['filename'] for data in neoplasm_test])\n",
    "\n",
    "mixed_collection = FilenameLabelledCollection([data['sentence'] for data in mixed_test], \n",
    "                                                 [data['label'] for data in mixed_test], \n",
    "                                                 [data['filename'] for data in mixed_test])"
   ]
  },
  {
   "cell_type": "code",
   "execution_count": 13,
   "id": "3ae1e54e-10bd-40ed-8632-af7263a83863",
   "metadata": {},
   "outputs": [
    {
     "name": "stderr",
     "output_type": "stream",
     "text": [
      "indexing: 100%|███████████████████████████████████████████████| 4645/4645 [00:00<00:00, 75472.48it/s]\n",
      "indexing: 100%|█████████████████████████████████████████████████| 708/708 [00:00<00:00, 70827.09it/s]\n",
      "indexing: 100%|███████████████████████████████████████████████| 3828/3828 [00:00<00:00, 11862.67it/s]\n",
      "indexing: 100%|███████████████████████████████████████████████| 1288/1288 [00:00<00:00, 80583.89it/s]\n",
      "indexing: 100%|███████████████████████████████████████████████| 1332/1332 [00:00<00:00, 70115.62it/s]\n",
      "indexing: 100%|███████████████████████████████████████████████| 1208/1208 [00:00<00:00, 75498.72it/s]\n"
     ]
    }
   ],
   "source": [
    "indexer = qp.data.preprocessing.IndexTransformer(min_df=1)\n",
    "\n",
    "# Create and index the dataset\n",
    "abs_dataset = CustomDataset(training=train_collection, test=test_collection, val=val_collection)\n",
    "index(abs_dataset, indexer, inplace=True)\n",
    "\n",
    "# Index the test collections\n",
    "index(glaucoma_collection, indexer, fit=False, inplace=True)\n",
    "index(neoplasm_collection, indexer, fit=False, inplace=True)\n",
    "index(mixed_collection, indexer, fit=False, inplace=True)\n",
    "\n",
    "qp.environ['SAMPLE_SIZE'] = avg_sentences_per_file_train"
   ]
  },
  {
   "cell_type": "markdown",
   "id": "6b97b60c-b816-49b5-8b56-8a0a4f499602",
   "metadata": {},
   "source": [
    "### 2. Classifier"
   ]
  },
  {
   "cell_type": "code",
   "execution_count": 7,
   "id": "f0f38c32-1d94-4fda-b3d2-287b14861011",
   "metadata": {
    "scrolled": true
   },
   "outputs": [
    {
     "name": "stderr",
     "output_type": "stream",
     "text": [
      "[I 2024-10-30 16:26:42,953] A new study created in memory with name: no-name-e3381943-a2e9-44f2-bd9f-bc1bdcb97ef5\n"
     ]
    },
    {
     "name": "stdout",
     "output_type": "stream",
     "text": [
      "Starting trial 0 with parameters:\n",
      "    Embedding size: 172 - Hidden size: 281\n",
      "    Optimizer: Adam (lr: 0.0008485856927597929) - Scheduler: CosineAnnealingWarmRestarts (params: {'T_0': 12, 'T_mult': 5})\n",
      "[NeuralNetwork running on cpu]\n"
     ]
    },
    {
     "name": "stderr",
     "output_type": "stream",
     "text": [
      "[CNNnet] training epoch=7 tr-loss=0.14423 tr-acc=94.66% tr-macroF1=93.62% patience=1/5 val-loss=0.530C:\\Users\\Antonio\\Documents\\UniBO\\NLP\\project\\nlp_unibo_2023-24_project\\experiments_antonio\\experiment_4_code.py:672: FutureWarning: You are using `torch.load` with `weights_only=False` (the current default value), which uses the default pickle module implicitly. It is possible to construct malicious pickle data which will execute arbitrary code during unpickling (See https://github.com/pytorch/pytorch/blob/main/SECURITY.md#untrusted-models for more details). In a future release, the default value for `weights_only` will be flipped to `True`. This limits the functions that could be executed during unpickling. Arbitrary objects will no longer be allowed to be loaded via this mode unless they are explicitly allowlisted by the user via `torch.serialization.add_safe_globals`. We recommend you start setting `weights_only=True` for any use case where you don't have full control of the loaded file. Please open an issue on GitHub for any issues related to this experimental feature.\n",
      "  self.net.load_state_dict(torch.load(self.checkpointpath))\n",
      "[CNNnet] training epoch=7 tr-loss=0.14423 tr-acc=94.66% tr-macroF1=93.62% patience=1/5 val-loss=0.530\n"
     ]
    },
    {
     "name": "stdout",
     "output_type": "stream",
     "text": [
      "Training ended by patience exhausted; loading best model parameters from ../checkpoint/relations/classifier_net.dat from epoch 2\n",
      "Performing a final training pass over the validation set...\n"
     ]
    },
    {
     "name": "stderr",
     "output_type": "stream",
     "text": [
      "[I 2024-10-30 16:29:40,136] Trial 0 finished with value: 0.8037904523511532 and parameters: {'embedding_size': 172, 'hidden_size': 281, 'optimizer': 'Adam', 'lr': 0.0008485856927597929, 'scheduler': 'CosineAnnealingWarmRestarts', 'T_0': 12, 'T_mult': 5}. Best is trial 0 with value: 0.8037904523511532.\n"
     ]
    },
    {
     "name": "stdout",
     "output_type": "stream",
     "text": [
      "[Training complete] - Best loss on validation set: 0.40404292941093445 - Best f1 on validation set: 0.8037904523511532\n",
      "Starting trial 1 with parameters:\n",
      "    Embedding size: 196 - Hidden size: 273\n",
      "    Optimizer: Adam (lr: 0.00038589816919175904) - Scheduler: CosineAnnealingWarmRestarts (params: {'T_0': 4, 'T_mult': 2})\n",
      "[NeuralNetwork running on cpu]\n"
     ]
    },
    {
     "name": "stderr",
     "output_type": "stream",
     "text": [
      "[CNNnet] training epoch=23 tr-loss=0.01614 tr-acc=99.44% tr-macroF1=99.33% patience=1/5 val-loss=0.64C:\\Users\\Antonio\\Documents\\UniBO\\NLP\\project\\nlp_unibo_2023-24_project\\experiments_antonio\\experiment_4_code.py:672: FutureWarning: You are using `torch.load` with `weights_only=False` (the current default value), which uses the default pickle module implicitly. It is possible to construct malicious pickle data which will execute arbitrary code during unpickling (See https://github.com/pytorch/pytorch/blob/main/SECURITY.md#untrusted-models for more details). In a future release, the default value for `weights_only` will be flipped to `True`. This limits the functions that could be executed during unpickling. Arbitrary objects will no longer be allowed to be loaded via this mode unless they are explicitly allowlisted by the user via `torch.serialization.add_safe_globals`. We recommend you start setting `weights_only=True` for any use case where you don't have full control of the loaded file. Please open an issue on GitHub for any issues related to this experimental feature.\n",
      "  self.net.load_state_dict(torch.load(self.checkpointpath))\n",
      "[CNNnet] training epoch=23 tr-loss=0.01614 tr-acc=99.44% tr-macroF1=99.33% patience=1/5 val-loss=0.64\n"
     ]
    },
    {
     "name": "stdout",
     "output_type": "stream",
     "text": [
      "Training ended by patience exhausted; loading best model parameters from ../checkpoint/relations/classifier_net.dat from epoch 18\n",
      "Performing a final training pass over the validation set...\n"
     ]
    },
    {
     "name": "stderr",
     "output_type": "stream",
     "text": [
      "[I 2024-10-30 16:40:17,044] Trial 1 finished with value: 0.8003767700081093 and parameters: {'embedding_size': 196, 'hidden_size': 273, 'optimizer': 'Adam', 'lr': 0.00038589816919175904, 'scheduler': 'CosineAnnealingWarmRestarts', 'T_0': 4, 'T_mult': 2}. Best is trial 0 with value: 0.8037904523511532.\n"
     ]
    },
    {
     "name": "stdout",
     "output_type": "stream",
     "text": [
      "[Training complete] - Best loss on validation set: 0.5891496539115906 - Best f1 on validation set: 0.8003767700081093\n",
      "Starting trial 2 with parameters:\n",
      "    Embedding size: 123 - Hidden size: 275\n",
      "    Optimizer: Adam (lr: 2.3829920272740206e-05) - Scheduler: CosineAnnealingLR (params: {'T_max': 7})\n",
      "[NeuralNetwork running on cpu]\n"
     ]
    },
    {
     "name": "stderr",
     "output_type": "stream",
     "text": [
      "[CNNnet] training epoch=45 tr-loss=0.30593 tr-acc=87.06% tr-macroF1=83.83% patience=1/5 val-loss=0.44C:\\Users\\Antonio\\Documents\\UniBO\\NLP\\project\\nlp_unibo_2023-24_project\\experiments_antonio\\experiment_4_code.py:672: FutureWarning: You are using `torch.load` with `weights_only=False` (the current default value), which uses the default pickle module implicitly. It is possible to construct malicious pickle data which will execute arbitrary code during unpickling (See https://github.com/pytorch/pytorch/blob/main/SECURITY.md#untrusted-models for more details). In a future release, the default value for `weights_only` will be flipped to `True`. This limits the functions that could be executed during unpickling. Arbitrary objects will no longer be allowed to be loaded via this mode unless they are explicitly allowlisted by the user via `torch.serialization.add_safe_globals`. We recommend you start setting `weights_only=True` for any use case where you don't have full control of the loaded file. Please open an issue on GitHub for any issues related to this experimental feature.\n",
      "  # Final training pass over validation set\n",
      "[CNNnet] training epoch=45 tr-loss=0.30593 tr-acc=87.06% tr-macroF1=83.83% patience=1/5 val-loss=0.44\n"
     ]
    },
    {
     "name": "stdout",
     "output_type": "stream",
     "text": [
      "Training ended by patience exhausted; loading best model parameters from ../checkpoint/relations/classifier_net.dat from epoch 40\n",
      "Performing a final training pass over the validation set...\n"
     ]
    },
    {
     "name": "stderr",
     "output_type": "stream",
     "text": [
      "[I 2024-10-30 16:53:46,262] Trial 2 finished with value: 0.7188190729739279 and parameters: {'embedding_size': 123, 'hidden_size': 275, 'optimizer': 'Adam', 'lr': 2.3829920272740206e-05, 'scheduler': 'CosineAnnealingLR', 'T_max': 7}. Best is trial 0 with value: 0.8037904523511532.\n"
     ]
    },
    {
     "name": "stdout",
     "output_type": "stream",
     "text": [
      "[Training complete] - Best loss on validation set: 0.4410031884908676 - Best f1 on validation set: 0.7188190729739279\n",
      "Starting trial 3 with parameters:\n",
      "    Embedding size: 128 - Hidden size: 291\n",
      "    Optimizer: Adam (lr: 9.94339477109365e-05) - Scheduler: CosineAnnealingWarmRestarts (params: {'T_0': 4, 'T_mult': 5})\n",
      "[NeuralNetwork running on cpu]\n"
     ]
    },
    {
     "name": "stderr",
     "output_type": "stream",
     "text": [
      "[CNNnet] training epoch=8 tr-loss=0.35579 tr-acc=84.67% tr-macroF1=80.56% patience=1/5 val-loss=0.462C:\\Users\\Antonio\\Documents\\UniBO\\NLP\\project\\nlp_unibo_2023-24_project\\experiments_antonio\\experiment_4_code.py:672: FutureWarning: You are using `torch.load` with `weights_only=False` (the current default value), which uses the default pickle module implicitly. It is possible to construct malicious pickle data which will execute arbitrary code during unpickling (See https://github.com/pytorch/pytorch/blob/main/SECURITY.md#untrusted-models for more details). In a future release, the default value for `weights_only` will be flipped to `True`. This limits the functions that could be executed during unpickling. Arbitrary objects will no longer be allowed to be loaded via this mode unless they are explicitly allowlisted by the user via `torch.serialization.add_safe_globals`. We recommend you start setting `weights_only=True` for any use case where you don't have full control of the loaded file. Please open an issue on GitHub for any issues related to this experimental feature.\n",
      "  # Final training pass over validation set\n",
      "[CNNnet] training epoch=8 tr-loss=0.35579 tr-acc=84.67% tr-macroF1=80.56% patience=1/5 val-loss=0.462\n"
     ]
    },
    {
     "name": "stdout",
     "output_type": "stream",
     "text": [
      "Training ended by patience exhausted; loading best model parameters from ../checkpoint/relations/classifier_net.dat from epoch 3\n",
      "Performing a final training pass over the validation set...\n"
     ]
    },
    {
     "name": "stderr",
     "output_type": "stream",
     "text": [
      "[I 2024-10-30 16:56:26,466] Trial 3 finished with value: 0.69437834128416 and parameters: {'embedding_size': 128, 'hidden_size': 291, 'optimizer': 'Adam', 'lr': 9.94339477109365e-05, 'scheduler': 'CosineAnnealingWarmRestarts', 'T_0': 4, 'T_mult': 5}. Best is trial 0 with value: 0.8037904523511532.\n"
     ]
    },
    {
     "name": "stdout",
     "output_type": "stream",
     "text": [
      "[Training complete] - Best loss on validation set: 0.5168560743331909 - Best f1 on validation set: 0.69437834128416\n",
      "Starting trial 4 with parameters:\n",
      "    Embedding size: 199 - Hidden size: 271\n",
      "    Optimizer: Adam (lr: 0.0003889299826688172) - Scheduler: CosineAnnealingLR (params: {'T_max': 5})\n",
      "[NeuralNetwork running on cpu]\n"
     ]
    },
    {
     "name": "stderr",
     "output_type": "stream",
     "text": [
      "[CNNnet] training epoch=10 tr-loss=0.04451 tr-acc=99.03% tr-macroF1=98.85% patience=1/5 val-loss=0.52C:\\Users\\Antonio\\Documents\\UniBO\\NLP\\project\\nlp_unibo_2023-24_project\\experiments_antonio\\experiment_4_code.py:672: FutureWarning: You are using `torch.load` with `weights_only=False` (the current default value), which uses the default pickle module implicitly. It is possible to construct malicious pickle data which will execute arbitrary code during unpickling (See https://github.com/pytorch/pytorch/blob/main/SECURITY.md#untrusted-models for more details). In a future release, the default value for `weights_only` will be flipped to `True`. This limits the functions that could be executed during unpickling. Arbitrary objects will no longer be allowed to be loaded via this mode unless they are explicitly allowlisted by the user via `torch.serialization.add_safe_globals`. We recommend you start setting `weights_only=True` for any use case where you don't have full control of the loaded file. Please open an issue on GitHub for any issues related to this experimental feature.\n",
      "  # Final training pass over validation set\n",
      "[CNNnet] training epoch=10 tr-loss=0.04451 tr-acc=99.03% tr-macroF1=98.85% patience=1/5 val-loss=0.52\n"
     ]
    },
    {
     "name": "stdout",
     "output_type": "stream",
     "text": [
      "Training ended by patience exhausted; loading best model parameters from ../checkpoint/relations/classifier_net.dat from epoch 5\n",
      "Performing a final training pass over the validation set...\n"
     ]
    },
    {
     "name": "stderr",
     "output_type": "stream",
     "text": [
      "[I 2024-10-30 17:00:55,030] Trial 4 finished with value: 0.7772035053925448 and parameters: {'embedding_size': 199, 'hidden_size': 271, 'optimizer': 'Adam', 'lr': 0.0003889299826688172, 'scheduler': 'CosineAnnealingLR', 'T_max': 5}. Best is trial 0 with value: 0.8037904523511532.\n"
     ]
    },
    {
     "name": "stdout",
     "output_type": "stream",
     "text": [
      "[Training complete] - Best loss on validation set: 0.41115377843379974 - Best f1 on validation set: 0.7772035053925448\n",
      "Starting trial 5 with parameters:\n",
      "    Embedding size: 125 - Hidden size: 275\n",
      "    Optimizer: Adam (lr: 0.00010211906915266462) - Scheduler: CosineAnnealingWarmRestarts (params: {'T_0': 7, 'T_mult': 5})\n",
      "[NeuralNetwork running on cpu]\n"
     ]
    },
    {
     "name": "stderr",
     "output_type": "stream",
     "text": [
      "[CNNnet] training epoch=13 tr-loss=0.21717 tr-acc=91.80% tr-macroF1=90.01% patience=1/5 val-loss=0.42C:\\Users\\Antonio\\Documents\\UniBO\\NLP\\project\\nlp_unibo_2023-24_project\\experiments_antonio\\experiment_4_code.py:672: FutureWarning: You are using `torch.load` with `weights_only=False` (the current default value), which uses the default pickle module implicitly. It is possible to construct malicious pickle data which will execute arbitrary code during unpickling (See https://github.com/pytorch/pytorch/blob/main/SECURITY.md#untrusted-models for more details). In a future release, the default value for `weights_only` will be flipped to `True`. This limits the functions that could be executed during unpickling. Arbitrary objects will no longer be allowed to be loaded via this mode unless they are explicitly allowlisted by the user via `torch.serialization.add_safe_globals`. We recommend you start setting `weights_only=True` for any use case where you don't have full control of the loaded file. Please open an issue on GitHub for any issues related to this experimental feature.\n",
      "  # Final training pass over validation set\n",
      "[CNNnet] training epoch=13 tr-loss=0.21717 tr-acc=91.80% tr-macroF1=90.01% patience=1/5 val-loss=0.42\n"
     ]
    },
    {
     "name": "stdout",
     "output_type": "stream",
     "text": [
      "Training ended by patience exhausted; loading best model parameters from ../checkpoint/relations/classifier_net.dat from epoch 8\n",
      "Performing a final training pass over the validation set...\n"
     ]
    },
    {
     "name": "stderr",
     "output_type": "stream",
     "text": [
      "[I 2024-10-30 17:04:55,786] Trial 5 finished with value: 0.7438892046922639 and parameters: {'embedding_size': 125, 'hidden_size': 275, 'optimizer': 'Adam', 'lr': 0.00010211906915266462, 'scheduler': 'CosineAnnealingWarmRestarts', 'T_0': 7, 'T_mult': 5}. Best is trial 0 with value: 0.8037904523511532.\n"
     ]
    },
    {
     "name": "stdout",
     "output_type": "stream",
     "text": [
      "[Training complete] - Best loss on validation set: 0.4235655516386032 - Best f1 on validation set: 0.7438892046922639\n",
      "Starting trial 6 with parameters:\n",
      "    Embedding size: 180 - Hidden size: 260\n",
      "    Optimizer: Adam (lr: 3.328535004503496e-05) - Scheduler: CosineAnnealingLR (params: {'T_max': 3})\n",
      "[NeuralNetwork running on cpu]\n"
     ]
    },
    {
     "name": "stderr",
     "output_type": "stream",
     "text": [
      "[CNNnet] training epoch=35 tr-loss=0.20415 tr-acc=92.70% tr-macroF1=91.16% patience=1/5 val-loss=0.42C:\\Users\\Antonio\\Documents\\UniBO\\NLP\\project\\nlp_unibo_2023-24_project\\experiments_antonio\\experiment_4_code.py:672: FutureWarning: You are using `torch.load` with `weights_only=False` (the current default value), which uses the default pickle module implicitly. It is possible to construct malicious pickle data which will execute arbitrary code during unpickling (See https://github.com/pytorch/pytorch/blob/main/SECURITY.md#untrusted-models for more details). In a future release, the default value for `weights_only` will be flipped to `True`. This limits the functions that could be executed during unpickling. Arbitrary objects will no longer be allowed to be loaded via this mode unless they are explicitly allowlisted by the user via `torch.serialization.add_safe_globals`. We recommend you start setting `weights_only=True` for any use case where you don't have full control of the loaded file. Please open an issue on GitHub for any issues related to this experimental feature.\n",
      "  # Final training pass over validation set\n",
      "[CNNnet] training epoch=35 tr-loss=0.20415 tr-acc=92.70% tr-macroF1=91.16% patience=1/5 val-loss=0.42\n"
     ]
    },
    {
     "name": "stdout",
     "output_type": "stream",
     "text": [
      "Training ended by patience exhausted; loading best model parameters from ../checkpoint/relations/classifier_net.dat from epoch 30\n",
      "Performing a final training pass over the validation set...\n"
     ]
    },
    {
     "name": "stderr",
     "output_type": "stream",
     "text": [
      "[I 2024-10-30 17:19:00,749] Trial 6 finished with value: 0.7476459510357816 and parameters: {'embedding_size': 180, 'hidden_size': 260, 'optimizer': 'Adam', 'lr': 3.328535004503496e-05, 'scheduler': 'CosineAnnealingLR', 'T_max': 3}. Best is trial 0 with value: 0.8037904523511532.\n"
     ]
    },
    {
     "name": "stdout",
     "output_type": "stream",
     "text": [
      "[Training complete] - Best loss on validation set: 0.4059285819530487 - Best f1 on validation set: 0.7476459510357816\n",
      "Starting trial 7 with parameters:\n",
      "    Embedding size: 106 - Hidden size: 270\n",
      "    Optimizer: Adam (lr: 0.0003096340575734433) - Scheduler: CosineAnnealingLR (params: {'T_max': 9})\n",
      "[NeuralNetwork running on cpu]\n"
     ]
    },
    {
     "name": "stderr",
     "output_type": "stream",
     "text": [
      "[CNNnet] training epoch=11 tr-loss=0.13007 tr-acc=95.52% tr-macroF1=94.65% patience=1/5 val-loss=0.46C:\\Users\\Antonio\\Documents\\UniBO\\NLP\\project\\nlp_unibo_2023-24_project\\experiments_antonio\\experiment_4_code.py:672: FutureWarning: You are using `torch.load` with `weights_only=False` (the current default value), which uses the default pickle module implicitly. It is possible to construct malicious pickle data which will execute arbitrary code during unpickling (See https://github.com/pytorch/pytorch/blob/main/SECURITY.md#untrusted-models for more details). In a future release, the default value for `weights_only` will be flipped to `True`. This limits the functions that could be executed during unpickling. Arbitrary objects will no longer be allowed to be loaded via this mode unless they are explicitly allowlisted by the user via `torch.serialization.add_safe_globals`. We recommend you start setting `weights_only=True` for any use case where you don't have full control of the loaded file. Please open an issue on GitHub for any issues related to this experimental feature.\n",
      "  # Final training pass over validation set\n",
      "[CNNnet] training epoch=11 tr-loss=0.13007 tr-acc=95.52% tr-macroF1=94.65% patience=1/5 val-loss=0.46\n"
     ]
    },
    {
     "name": "stdout",
     "output_type": "stream",
     "text": [
      "Training ended by patience exhausted; loading best model parameters from ../checkpoint/relations/classifier_net.dat from epoch 6\n",
      "Performing a final training pass over the validation set...\n"
     ]
    },
    {
     "name": "stderr",
     "output_type": "stream",
     "text": [
      "[I 2024-10-30 17:22:03,261] Trial 7 finished with value: 0.7856899617844035 and parameters: {'embedding_size': 106, 'hidden_size': 270, 'optimizer': 'Adam', 'lr': 0.0003096340575734433, 'scheduler': 'CosineAnnealingLR', 'T_max': 9}. Best is trial 0 with value: 0.8037904523511532.\n"
     ]
    },
    {
     "name": "stdout",
     "output_type": "stream",
     "text": [
      "[Training complete] - Best loss on validation set: 0.41388463973999023 - Best f1 on validation set: 0.7856899617844035\n",
      "Starting trial 8 with parameters:\n",
      "    Embedding size: 179 - Hidden size: 298\n",
      "    Optimizer: Adam (lr: 0.00013230983867777723) - Scheduler: CosineAnnealingLR (params: {'T_max': 10})\n",
      "[NeuralNetwork running on cpu]\n"
     ]
    },
    {
     "name": "stderr",
     "output_type": "stream",
     "text": [
      "[CNNnet] training epoch=12 tr-loss=0.15421 tr-acc=95.01% tr-macroF1=94.01% patience=1/5 val-loss=0.39C:\\Users\\Antonio\\Documents\\UniBO\\NLP\\project\\nlp_unibo_2023-24_project\\experiments_antonio\\experiment_4_code.py:672: FutureWarning: You are using `torch.load` with `weights_only=False` (the current default value), which uses the default pickle module implicitly. It is possible to construct malicious pickle data which will execute arbitrary code during unpickling (See https://github.com/pytorch/pytorch/blob/main/SECURITY.md#untrusted-models for more details). In a future release, the default value for `weights_only` will be flipped to `True`. This limits the functions that could be executed during unpickling. Arbitrary objects will no longer be allowed to be loaded via this mode unless they are explicitly allowlisted by the user via `torch.serialization.add_safe_globals`. We recommend you start setting `weights_only=True` for any use case where you don't have full control of the loaded file. Please open an issue on GitHub for any issues related to this experimental feature.\n",
      "  # Final training pass over validation set\n",
      "[CNNnet] training epoch=12 tr-loss=0.15421 tr-acc=95.01% tr-macroF1=94.01% patience=1/5 val-loss=0.39\n"
     ]
    },
    {
     "name": "stdout",
     "output_type": "stream",
     "text": [
      "Training ended by patience exhausted; loading best model parameters from ../checkpoint/relations/classifier_net.dat from epoch 7\n",
      "Performing a final training pass over the validation set...\n"
     ]
    },
    {
     "name": "stderr",
     "output_type": "stream",
     "text": [
      "[I 2024-10-30 17:27:22,920] Trial 8 finished with value: 0.776202147525677 and parameters: {'embedding_size': 179, 'hidden_size': 298, 'optimizer': 'Adam', 'lr': 0.00013230983867777723, 'scheduler': 'CosineAnnealingLR', 'T_max': 10}. Best is trial 0 with value: 0.8037904523511532.\n"
     ]
    },
    {
     "name": "stdout",
     "output_type": "stream",
     "text": [
      "[Training complete] - Best loss on validation set: 0.4153924733400345 - Best f1 on validation set: 0.776202147525677\n",
      "Starting trial 9 with parameters:\n",
      "    Embedding size: 169 - Hidden size: 278\n",
      "    Optimizer: Adam (lr: 0.0008006129710263081) - Scheduler: CosineAnnealingLR (params: {'T_max': 9})\n",
      "[NeuralNetwork running on cpu]\n"
     ]
    },
    {
     "name": "stderr",
     "output_type": "stream",
     "text": [
      "[CNNnet] training epoch=9 tr-loss=0.05723 tr-acc=98.08% tr-macroF1=97.72% patience=1/5 val-loss=0.575C:\\Users\\Antonio\\Documents\\UniBO\\NLP\\project\\nlp_unibo_2023-24_project\\experiments_antonio\\experiment_4_code.py:672: FutureWarning: You are using `torch.load` with `weights_only=False` (the current default value), which uses the default pickle module implicitly. It is possible to construct malicious pickle data which will execute arbitrary code during unpickling (See https://github.com/pytorch/pytorch/blob/main/SECURITY.md#untrusted-models for more details). In a future release, the default value for `weights_only` will be flipped to `True`. This limits the functions that could be executed during unpickling. Arbitrary objects will no longer be allowed to be loaded via this mode unless they are explicitly allowlisted by the user via `torch.serialization.add_safe_globals`. We recommend you start setting `weights_only=True` for any use case where you don't have full control of the loaded file. Please open an issue on GitHub for any issues related to this experimental feature.\n",
      "  # Final training pass over validation set\n",
      "[CNNnet] training epoch=9 tr-loss=0.05723 tr-acc=98.08% tr-macroF1=97.72% patience=1/5 val-loss=0.575\n"
     ]
    },
    {
     "name": "stdout",
     "output_type": "stream",
     "text": [
      "Training ended by patience exhausted; loading best model parameters from ../checkpoint/relations/classifier_net.dat from epoch 4\n",
      "Performing a final training pass over the validation set...\n"
     ]
    },
    {
     "name": "stderr",
     "output_type": "stream",
     "text": [
      "[I 2024-10-30 17:31:00,942] Trial 9 finished with value: 0.8068037111151537 and parameters: {'embedding_size': 169, 'hidden_size': 278, 'optimizer': 'Adam', 'lr': 0.0008006129710263081, 'scheduler': 'CosineAnnealingLR', 'T_max': 9}. Best is trial 9 with value: 0.8068037111151537.\n"
     ]
    },
    {
     "name": "stdout",
     "output_type": "stream",
     "text": [
      "[Training complete] - Best loss on validation set: 0.3986272066831589 - Best f1 on validation set: 0.8068037111151537\n",
      "Starting trial 10 with parameters:\n",
      "    Embedding size: 151 - Hidden size: 287\n",
      "    Optimizer: Adam (lr: 1.0734940879113042e-05) - Scheduler: CosineAnnealingLR (params: {'T_max': 12})\n",
      "[NeuralNetwork running on cpu]\n"
     ]
    },
    {
     "name": "stderr",
     "output_type": "stream",
     "text": [
      "[CNNnet] training epoch=6 tr-loss=0.60343 tr-acc=69.69% tr-macroF1=46.09% patience=1/5 val-loss=0.592C:\\Users\\Antonio\\Documents\\UniBO\\NLP\\project\\nlp_unibo_2023-24_project\\experiments_antonio\\experiment_4_code.py:672: FutureWarning: You are using `torch.load` with `weights_only=False` (the current default value), which uses the default pickle module implicitly. It is possible to construct malicious pickle data which will execute arbitrary code during unpickling (See https://github.com/pytorch/pytorch/blob/main/SECURITY.md#untrusted-models for more details). In a future release, the default value for `weights_only` will be flipped to `True`. This limits the functions that could be executed during unpickling. Arbitrary objects will no longer be allowed to be loaded via this mode unless they are explicitly allowlisted by the user via `torch.serialization.add_safe_globals`. We recommend you start setting `weights_only=True` for any use case where you don't have full control of the loaded file. Please open an issue on GitHub for any issues related to this experimental feature.\n",
      "  # Final training pass over validation set\n",
      "[CNNnet] training epoch=6 tr-loss=0.60343 tr-acc=69.69% tr-macroF1=46.09% patience=1/5 val-loss=0.592\n"
     ]
    },
    {
     "name": "stdout",
     "output_type": "stream",
     "text": [
      "Training ended by patience exhausted; loading best model parameters from ../checkpoint/relations/classifier_net.dat from epoch 1\n",
      "Performing a final training pass over the validation set...\n"
     ]
    },
    {
     "name": "stderr",
     "output_type": "stream",
     "text": [
      "[I 2024-10-30 17:33:18,468] Trial 10 finished with value: 0.4104912572855953 and parameters: {'embedding_size': 151, 'hidden_size': 287, 'optimizer': 'Adam', 'lr': 1.0734940879113042e-05, 'scheduler': 'CosineAnnealingLR', 'T_max': 12}. Best is trial 9 with value: 0.8068037111151537.\n"
     ]
    },
    {
     "name": "stdout",
     "output_type": "stream",
     "text": [
      "[Training complete] - Best loss on validation set: 0.6156531870365143 - Best f1 on validation set: 0.4104912572855953\n",
      "Starting trial 11 with parameters:\n",
      "    Embedding size: 154 - Hidden size: 284\n",
      "    Optimizer: Adam (lr: 0.0009064651384380115) - Scheduler: CosineAnnealingWarmRestarts (params: {'T_0': 12, 'T_mult': 4})\n",
      "[NeuralNetwork running on cpu]\n"
     ]
    },
    {
     "name": "stderr",
     "output_type": "stream",
     "text": [
      "[CNNnet] training epoch=9 tr-loss=0.03925 tr-acc=98.60% tr-macroF1=98.33% patience=1/5 val-loss=0.683C:\\Users\\Antonio\\Documents\\UniBO\\NLP\\project\\nlp_unibo_2023-24_project\\experiments_antonio\\experiment_4_code.py:672: FutureWarning: You are using `torch.load` with `weights_only=False` (the current default value), which uses the default pickle module implicitly. It is possible to construct malicious pickle data which will execute arbitrary code during unpickling (See https://github.com/pytorch/pytorch/blob/main/SECURITY.md#untrusted-models for more details). In a future release, the default value for `weights_only` will be flipped to `True`. This limits the functions that could be executed during unpickling. Arbitrary objects will no longer be allowed to be loaded via this mode unless they are explicitly allowlisted by the user via `torch.serialization.add_safe_globals`. We recommend you start setting `weights_only=True` for any use case where you don't have full control of the loaded file. Please open an issue on GitHub for any issues related to this experimental feature.\n",
      "  # Final training pass over validation set\n",
      "[CNNnet] training epoch=9 tr-loss=0.03925 tr-acc=98.60% tr-macroF1=98.33% patience=1/5 val-loss=0.683\n"
     ]
    },
    {
     "name": "stdout",
     "output_type": "stream",
     "text": [
      "Training ended by patience exhausted; loading best model parameters from ../checkpoint/relations/classifier_net.dat from epoch 4\n",
      "Performing a final training pass over the validation set...\n"
     ]
    },
    {
     "name": "stderr",
     "output_type": "stream",
     "text": [
      "[I 2024-10-30 17:36:41,538] Trial 11 finished with value: 0.772732212951706 and parameters: {'embedding_size': 154, 'hidden_size': 284, 'optimizer': 'Adam', 'lr': 0.0009064651384380115, 'scheduler': 'CosineAnnealingWarmRestarts', 'T_0': 12, 'T_mult': 4}. Best is trial 9 with value: 0.8068037111151537.\n"
     ]
    },
    {
     "name": "stdout",
     "output_type": "stream",
     "text": [
      "[Training complete] - Best loss on validation set: 0.44012413918972015 - Best f1 on validation set: 0.772732212951706\n",
      "Starting trial 12 with parameters:\n",
      "    Embedding size: 167 - Hidden size: 281\n",
      "    Optimizer: Adam (lr: 0.0009710587639767617) - Scheduler: CosineAnnealingWarmRestarts (params: {'T_0': 11, 'T_mult': 1})\n",
      "[NeuralNetwork running on cpu]\n"
     ]
    },
    {
     "name": "stderr",
     "output_type": "stream",
     "text": [
      "[CNNnet] training epoch=15 tr-loss=0.04787 tr-acc=98.36% tr-macroF1=98.05% patience=1/5 val-loss=0.66C:\\Users\\Antonio\\Documents\\UniBO\\NLP\\project\\nlp_unibo_2023-24_project\\experiments_antonio\\experiment_4_code.py:672: FutureWarning: You are using `torch.load` with `weights_only=False` (the current default value), which uses the default pickle module implicitly. It is possible to construct malicious pickle data which will execute arbitrary code during unpickling (See https://github.com/pytorch/pytorch/blob/main/SECURITY.md#untrusted-models for more details). In a future release, the default value for `weights_only` will be flipped to `True`. This limits the functions that could be executed during unpickling. Arbitrary objects will no longer be allowed to be loaded via this mode unless they are explicitly allowlisted by the user via `torch.serialization.add_safe_globals`. We recommend you start setting `weights_only=True` for any use case where you don't have full control of the loaded file. Please open an issue on GitHub for any issues related to this experimental feature.\n",
      "  # Final training pass over validation set\n",
      "[CNNnet] training epoch=15 tr-loss=0.04787 tr-acc=98.36% tr-macroF1=98.05% patience=1/5 val-loss=0.66\n"
     ]
    },
    {
     "name": "stdout",
     "output_type": "stream",
     "text": [
      "Training ended by patience exhausted; loading best model parameters from ../checkpoint/relations/classifier_net.dat from epoch 10\n",
      "Performing a final training pass over the validation set...\n"
     ]
    },
    {
     "name": "stderr",
     "output_type": "stream",
     "text": [
      "[I 2024-10-30 17:42:34,853] Trial 12 finished with value: 0.7848657943396893 and parameters: {'embedding_size': 167, 'hidden_size': 281, 'optimizer': 'Adam', 'lr': 0.0009710587639767617, 'scheduler': 'CosineAnnealingWarmRestarts', 'T_0': 11, 'T_mult': 1}. Best is trial 9 with value: 0.8068037111151537.\n"
     ]
    },
    {
     "name": "stdout",
     "output_type": "stream",
     "text": [
      "[Training complete] - Best loss on validation set: 0.646946519613266 - Best f1 on validation set: 0.7848657943396893\n",
      "Starting trial 13 with parameters:\n",
      "    Embedding size: 168 - Hidden size: 262\n",
      "    Optimizer: Adam (lr: 0.0005682106988700279) - Scheduler: CosineAnnealingWarmRestarts (params: {'T_0': 9, 'T_mult': 3})\n",
      "[NeuralNetwork running on cpu]\n"
     ]
    },
    {
     "name": "stderr",
     "output_type": "stream",
     "text": [
      "[CNNnet] training epoch=11 tr-loss=0.03212 tr-acc=98.97% tr-macroF1=98.77% patience=1/5 val-loss=0.57C:\\Users\\Antonio\\Documents\\UniBO\\NLP\\project\\nlp_unibo_2023-24_project\\experiments_antonio\\experiment_4_code.py:672: FutureWarning: You are using `torch.load` with `weights_only=False` (the current default value), which uses the default pickle module implicitly. It is possible to construct malicious pickle data which will execute arbitrary code during unpickling (See https://github.com/pytorch/pytorch/blob/main/SECURITY.md#untrusted-models for more details). In a future release, the default value for `weights_only` will be flipped to `True`. This limits the functions that could be executed during unpickling. Arbitrary objects will no longer be allowed to be loaded via this mode unless they are explicitly allowlisted by the user via `torch.serialization.add_safe_globals`. We recommend you start setting `weights_only=True` for any use case where you don't have full control of the loaded file. Please open an issue on GitHub for any issues related to this experimental feature.\n",
      "  # Final training pass over validation set\n",
      "[CNNnet] training epoch=11 tr-loss=0.03212 tr-acc=98.97% tr-macroF1=98.77% patience=1/5 val-loss=0.57\n"
     ]
    },
    {
     "name": "stdout",
     "output_type": "stream",
     "text": [
      "Training ended by patience exhausted; loading best model parameters from ../checkpoint/relations/classifier_net.dat from epoch 6\n",
      "Performing a final training pass over the validation set...\n"
     ]
    },
    {
     "name": "stderr",
     "output_type": "stream",
     "text": [
      "[I 2024-10-30 17:46:46,315] Trial 13 finished with value: 0.8031364698031365 and parameters: {'embedding_size': 168, 'hidden_size': 262, 'optimizer': 'Adam', 'lr': 0.0005682106988700279, 'scheduler': 'CosineAnnealingWarmRestarts', 'T_0': 9, 'T_mult': 3}. Best is trial 9 with value: 0.8068037111151537.\n"
     ]
    },
    {
     "name": "stdout",
     "output_type": "stream",
     "text": [
      "[Training complete] - Best loss on validation set: 0.4530303329229355 - Best f1 on validation set: 0.8031364698031365\n",
      "Starting trial 14 with parameters:\n",
      "    Embedding size: 167 - Hidden size: 292\n",
      "    Optimizer: Adam (lr: 0.00019006947169647595) - Scheduler: CosineAnnealingLR (params: {'T_max': 7})\n",
      "[NeuralNetwork running on cpu]\n"
     ]
    },
    {
     "name": "stderr",
     "output_type": "stream",
     "text": [
      "[CNNnet] training epoch=11 tr-loss=0.15313 tr-acc=95.05% tr-macroF1=94.07% patience=1/5 val-loss=0.44C:\\Users\\Antonio\\Documents\\UniBO\\NLP\\project\\nlp_unibo_2023-24_project\\experiments_antonio\\experiment_4_code.py:672: FutureWarning: You are using `torch.load` with `weights_only=False` (the current default value), which uses the default pickle module implicitly. It is possible to construct malicious pickle data which will execute arbitrary code during unpickling (See https://github.com/pytorch/pytorch/blob/main/SECURITY.md#untrusted-models for more details). In a future release, the default value for `weights_only` will be flipped to `True`. This limits the functions that could be executed during unpickling. Arbitrary objects will no longer be allowed to be loaded via this mode unless they are explicitly allowlisted by the user via `torch.serialization.add_safe_globals`. We recommend you start setting `weights_only=True` for any use case where you don't have full control of the loaded file. Please open an issue on GitHub for any issues related to this experimental feature.\n",
      "  # Final training pass over validation set\n",
      "[CNNnet] training epoch=11 tr-loss=0.15313 tr-acc=95.05% tr-macroF1=94.07% patience=1/5 val-loss=0.44\n"
     ]
    },
    {
     "name": "stdout",
     "output_type": "stream",
     "text": [
      "Training ended by patience exhausted; loading best model parameters from ../checkpoint/relations/classifier_net.dat from epoch 6\n",
      "Performing a final training pass over the validation set...\n"
     ]
    },
    {
     "name": "stderr",
     "output_type": "stream",
     "text": [
      "[I 2024-10-30 17:51:19,517] Trial 14 finished with value: 0.7697040885475491 and parameters: {'embedding_size': 167, 'hidden_size': 292, 'optimizer': 'Adam', 'lr': 0.00019006947169647595, 'scheduler': 'CosineAnnealingLR', 'T_max': 7}. Best is trial 9 with value: 0.8068037111151537.\n"
     ]
    },
    {
     "name": "stdout",
     "output_type": "stream",
     "text": [
      "[Training complete] - Best loss on validation set: 0.4690325856208801 - Best f1 on validation set: 0.7697040885475491\n",
      "Starting trial 15 with parameters:\n",
      "    Embedding size: 142 - Hidden size: 266\n",
      "    Optimizer: Adam (lr: 0.0006219422225430925) - Scheduler: CosineAnnealingWarmRestarts (params: {'T_0': 1, 'T_mult': 4})\n",
      "[NeuralNetwork running on cpu]\n"
     ]
    },
    {
     "name": "stderr",
     "output_type": "stream",
     "text": [
      "[CNNnet] training epoch=8 tr-loss=0.11021 tr-acc=95.93% tr-macroF1=95.15% patience=1/5 val-loss=0.477C:\\Users\\Antonio\\Documents\\UniBO\\NLP\\project\\nlp_unibo_2023-24_project\\experiments_antonio\\experiment_4_code.py:672: FutureWarning: You are using `torch.load` with `weights_only=False` (the current default value), which uses the default pickle module implicitly. It is possible to construct malicious pickle data which will execute arbitrary code during unpickling (See https://github.com/pytorch/pytorch/blob/main/SECURITY.md#untrusted-models for more details). In a future release, the default value for `weights_only` will be flipped to `True`. This limits the functions that could be executed during unpickling. Arbitrary objects will no longer be allowed to be loaded via this mode unless they are explicitly allowlisted by the user via `torch.serialization.add_safe_globals`. We recommend you start setting `weights_only=True` for any use case where you don't have full control of the loaded file. Please open an issue on GitHub for any issues related to this experimental feature.\n",
      "  # Final training pass over validation set\n",
      "[CNNnet] training epoch=8 tr-loss=0.11021 tr-acc=95.93% tr-macroF1=95.15% patience=1/5 val-loss=0.477"
     ]
    },
    {
     "name": "stdout",
     "output_type": "stream",
     "text": [
      "Training ended by patience exhausted; loading best model parameters from ../checkpoint/relations/classifier_net.dat from epoch 3\n",
      "Performing a final training pass over the validation set...\n"
     ]
    },
    {
     "name": "stderr",
     "output_type": "stream",
     "text": [
      "\n",
      "[I 2024-10-30 17:54:05,435] Trial 15 finished with value: 0.7923653846153846 and parameters: {'embedding_size': 142, 'hidden_size': 266, 'optimizer': 'Adam', 'lr': 0.0006219422225430925, 'scheduler': 'CosineAnnealingWarmRestarts', 'T_0': 1, 'T_mult': 4}. Best is trial 9 with value: 0.8068037111151537.\n"
     ]
    },
    {
     "name": "stdout",
     "output_type": "stream",
     "text": [
      "[Training complete] - Best loss on validation set: 0.3758814185857773 - Best f1 on validation set: 0.7923653846153846\n",
      "Starting trial 16 with parameters:\n",
      "    Embedding size: 184 - Hidden size: 279\n",
      "    Optimizer: Adam (lr: 0.0002159521825089592) - Scheduler: CosineAnnealingLR (params: {'T_max': 12})\n",
      "[NeuralNetwork running on cpu]\n"
     ]
    },
    {
     "name": "stderr",
     "output_type": "stream",
     "text": [
      "[CNNnet] training epoch=16 tr-loss=0.03758 tr-acc=98.92% tr-macroF1=98.72% patience=1/5 val-loss=0.53C:\\Users\\Antonio\\Documents\\UniBO\\NLP\\project\\nlp_unibo_2023-24_project\\experiments_antonio\\experiment_4_code.py:672: FutureWarning: You are using `torch.load` with `weights_only=False` (the current default value), which uses the default pickle module implicitly. It is possible to construct malicious pickle data which will execute arbitrary code during unpickling (See https://github.com/pytorch/pytorch/blob/main/SECURITY.md#untrusted-models for more details). In a future release, the default value for `weights_only` will be flipped to `True`. This limits the functions that could be executed during unpickling. Arbitrary objects will no longer be allowed to be loaded via this mode unless they are explicitly allowlisted by the user via `torch.serialization.add_safe_globals`. We recommend you start setting `weights_only=True` for any use case where you don't have full control of the loaded file. Please open an issue on GitHub for any issues related to this experimental feature.\n",
      "  # Final training pass over validation set\n",
      "[CNNnet] training epoch=16 tr-loss=0.03758 tr-acc=98.92% tr-macroF1=98.72% patience=1/5 val-loss=0.53\n"
     ]
    },
    {
     "name": "stdout",
     "output_type": "stream",
     "text": [
      "Training ended by patience exhausted; loading best model parameters from ../checkpoint/relations/classifier_net.dat from epoch 11\n",
      "Performing a final training pass over the validation set...\n"
     ]
    },
    {
     "name": "stderr",
     "output_type": "stream",
     "text": [
      "[I 2024-10-30 18:00:50,125] Trial 16 finished with value: 0.7833620195065978 and parameters: {'embedding_size': 184, 'hidden_size': 279, 'optimizer': 'Adam', 'lr': 0.0002159521825089592, 'scheduler': 'CosineAnnealingLR', 'T_max': 12}. Best is trial 9 with value: 0.8068037111151537.\n"
     ]
    },
    {
     "name": "stdout",
     "output_type": "stream",
     "text": [
      "[Training complete] - Best loss on validation set: 0.4374668449163437 - Best f1 on validation set: 0.7833620195065978\n",
      "Starting trial 17 with parameters:\n",
      "    Embedding size: 159 - Hidden size: 286\n",
      "    Optimizer: Adam (lr: 6.371478135497518e-05) - Scheduler: CosineAnnealingWarmRestarts (params: {'T_0': 9, 'T_mult': 3})\n",
      "[NeuralNetwork running on cpu]\n"
     ]
    },
    {
     "name": "stderr",
     "output_type": "stream",
     "text": [
      "[CNNnet] training epoch=23 tr-loss=0.12668 tr-acc=95.54% tr-macroF1=94.67% patience=1/5 val-loss=0.45C:\\Users\\Antonio\\Documents\\UniBO\\NLP\\project\\nlp_unibo_2023-24_project\\experiments_antonio\\experiment_4_code.py:672: FutureWarning: You are using `torch.load` with `weights_only=False` (the current default value), which uses the default pickle module implicitly. It is possible to construct malicious pickle data which will execute arbitrary code during unpickling (See https://github.com/pytorch/pytorch/blob/main/SECURITY.md#untrusted-models for more details). In a future release, the default value for `weights_only` will be flipped to `True`. This limits the functions that could be executed during unpickling. Arbitrary objects will no longer be allowed to be loaded via this mode unless they are explicitly allowlisted by the user via `torch.serialization.add_safe_globals`. We recommend you start setting `weights_only=True` for any use case where you don't have full control of the loaded file. Please open an issue on GitHub for any issues related to this experimental feature.\n",
      "  # Final training pass over validation set\n",
      "[CNNnet] training epoch=23 tr-loss=0.12668 tr-acc=95.54% tr-macroF1=94.67% patience=1/5 val-loss=0.45\n"
     ]
    },
    {
     "name": "stdout",
     "output_type": "stream",
     "text": [
      "Training ended by patience exhausted; loading best model parameters from ../checkpoint/relations/classifier_net.dat from epoch 18\n",
      "Performing a final training pass over the validation set...\n"
     ]
    },
    {
     "name": "stderr",
     "output_type": "stream",
     "text": [
      "[I 2024-10-30 18:09:52,817] Trial 17 finished with value: 0.7682145082425996 and parameters: {'embedding_size': 159, 'hidden_size': 286, 'optimizer': 'Adam', 'lr': 6.371478135497518e-05, 'scheduler': 'CosineAnnealingWarmRestarts', 'T_0': 9, 'T_mult': 3}. Best is trial 9 with value: 0.8068037111151537.\n"
     ]
    },
    {
     "name": "stdout",
     "output_type": "stream",
     "text": [
      "[Training complete] - Best loss on validation set: 0.41532444953918457 - Best f1 on validation set: 0.7682145082425996\n",
      "Starting trial 18 with parameters:\n",
      "    Embedding size: 136 - Hidden size: 299\n",
      "    Optimizer: Adam (lr: 0.0005983679698782991) - Scheduler: CosineAnnealingWarmRestarts (params: {'T_0': 10, 'T_mult': 5})\n",
      "[NeuralNetwork running on cpu]\n"
     ]
    },
    {
     "name": "stderr",
     "output_type": "stream",
     "text": [
      "[CNNnet] training epoch=7 tr-loss=0.11781 tr-acc=95.29% tr-macroF1=94.37% patience=1/5 val-loss=0.448C:\\Users\\Antonio\\Documents\\UniBO\\NLP\\project\\nlp_unibo_2023-24_project\\experiments_antonio\\experiment_4_code.py:672: FutureWarning: You are using `torch.load` with `weights_only=False` (the current default value), which uses the default pickle module implicitly. It is possible to construct malicious pickle data which will execute arbitrary code during unpickling (See https://github.com/pytorch/pytorch/blob/main/SECURITY.md#untrusted-models for more details). In a future release, the default value for `weights_only` will be flipped to `True`. This limits the functions that could be executed during unpickling. Arbitrary objects will no longer be allowed to be loaded via this mode unless they are explicitly allowlisted by the user via `torch.serialization.add_safe_globals`. We recommend you start setting `weights_only=True` for any use case where you don't have full control of the loaded file. Please open an issue on GitHub for any issues related to this experimental feature.\n",
      "  # Final training pass over validation set\n",
      "[CNNnet] training epoch=7 tr-loss=0.11781 tr-acc=95.29% tr-macroF1=94.37% patience=1/5 val-loss=0.448\n"
     ]
    },
    {
     "name": "stdout",
     "output_type": "stream",
     "text": [
      "Training ended by patience exhausted; loading best model parameters from ../checkpoint/relations/classifier_net.dat from epoch 2\n",
      "Performing a final training pass over the validation set...\n"
     ]
    },
    {
     "name": "stderr",
     "output_type": "stream",
     "text": [
      "[I 2024-10-30 18:12:11,816] Trial 18 finished with value: 0.782733224222586 and parameters: {'embedding_size': 136, 'hidden_size': 299, 'optimizer': 'Adam', 'lr': 0.0005983679698782991, 'scheduler': 'CosineAnnealingWarmRestarts', 'T_0': 10, 'T_mult': 5}. Best is trial 9 with value: 0.8068037111151537.\n"
     ]
    },
    {
     "name": "stdout",
     "output_type": "stream",
     "text": [
      "[Training complete] - Best loss on validation set: 0.3951180726289749 - Best f1 on validation set: 0.782733224222586\n",
      "Starting trial 19 with parameters:\n",
      "    Embedding size: 186 - Hidden size: 266\n",
      "    Optimizer: Adam (lr: 0.00024826339125217343) - Scheduler: CosineAnnealingLR (params: {'T_max': 2})\n",
      "[NeuralNetwork running on cpu]\n"
     ]
    },
    {
     "name": "stderr",
     "output_type": "stream",
     "text": [
      "[CNNnet] training epoch=10 tr-loss=0.08095 tr-acc=97.40% tr-macroF1=96.88% patience=1/5 val-loss=0.46C:\\Users\\Antonio\\Documents\\UniBO\\NLP\\project\\nlp_unibo_2023-24_project\\experiments_antonio\\experiment_4_code.py:672: FutureWarning: You are using `torch.load` with `weights_only=False` (the current default value), which uses the default pickle module implicitly. It is possible to construct malicious pickle data which will execute arbitrary code during unpickling (See https://github.com/pytorch/pytorch/blob/main/SECURITY.md#untrusted-models for more details). In a future release, the default value for `weights_only` will be flipped to `True`. This limits the functions that could be executed during unpickling. Arbitrary objects will no longer be allowed to be loaded via this mode unless they are explicitly allowlisted by the user via `torch.serialization.add_safe_globals`. We recommend you start setting `weights_only=True` for any use case where you don't have full control of the loaded file. Please open an issue on GitHub for any issues related to this experimental feature.\n",
      "  # Final training pass over validation set\n",
      "[CNNnet] training epoch=10 tr-loss=0.08095 tr-acc=97.40% tr-macroF1=96.88% patience=1/5 val-loss=0.46\n"
     ]
    },
    {
     "name": "stdout",
     "output_type": "stream",
     "text": [
      "Training ended by patience exhausted; loading best model parameters from ../checkpoint/relations/classifier_net.dat from epoch 5\n",
      "Performing a final training pass over the validation set...\n"
     ]
    },
    {
     "name": "stderr",
     "output_type": "stream",
     "text": [
      "[I 2024-10-30 18:16:11,319] Trial 19 finished with value: 0.7598104246204949 and parameters: {'embedding_size': 186, 'hidden_size': 266, 'optimizer': 'Adam', 'lr': 0.00024826339125217343, 'scheduler': 'CosineAnnealingLR', 'T_max': 2}. Best is trial 9 with value: 0.8068037111151537.\n"
     ]
    },
    {
     "name": "stdout",
     "output_type": "stream",
     "text": [
      "[Training complete] - Best loss on validation set: 0.41375014185905457 - Best f1 on validation set: 0.7598104246204949\n",
      "Starting trial 20 with parameters:\n",
      "    Embedding size: 173 - Hidden size: 281\n",
      "    Optimizer: Adam (lr: 5.720121019225376e-05) - Scheduler: CosineAnnealingLR (params: {'T_max': 8})\n",
      "[NeuralNetwork running on cpu]\n"
     ]
    },
    {
     "name": "stderr",
     "output_type": "stream",
     "text": [
      "[CNNnet] training epoch=28 tr-loss=0.13907 tr-acc=95.39% tr-macroF1=94.47% patience=1/5 val-loss=0.43C:\\Users\\Antonio\\Documents\\UniBO\\NLP\\project\\nlp_unibo_2023-24_project\\experiments_antonio\\experiment_4_code.py:672: FutureWarning: You are using `torch.load` with `weights_only=False` (the current default value), which uses the default pickle module implicitly. It is possible to construct malicious pickle data which will execute arbitrary code during unpickling (See https://github.com/pytorch/pytorch/blob/main/SECURITY.md#untrusted-models for more details). In a future release, the default value for `weights_only` will be flipped to `True`. This limits the functions that could be executed during unpickling. Arbitrary objects will no longer be allowed to be loaded via this mode unless they are explicitly allowlisted by the user via `torch.serialization.add_safe_globals`. We recommend you start setting `weights_only=True` for any use case where you don't have full control of the loaded file. Please open an issue on GitHub for any issues related to this experimental feature.\n",
      "  # Final training pass over validation set\n",
      "[CNNnet] training epoch=28 tr-loss=0.13907 tr-acc=95.39% tr-macroF1=94.47% patience=1/5 val-loss=0.43\n"
     ]
    },
    {
     "name": "stdout",
     "output_type": "stream",
     "text": [
      "Training ended by patience exhausted; loading best model parameters from ../checkpoint/relations/classifier_net.dat from epoch 23\n",
      "Performing a final training pass over the validation set...\n"
     ]
    },
    {
     "name": "stderr",
     "output_type": "stream",
     "text": [
      "[I 2024-10-30 18:26:48,344] Trial 20 finished with value: 0.7593622543566927 and parameters: {'embedding_size': 173, 'hidden_size': 281, 'optimizer': 'Adam', 'lr': 5.720121019225376e-05, 'scheduler': 'CosineAnnealingLR', 'T_max': 8}. Best is trial 9 with value: 0.8068037111151537.\n"
     ]
    },
    {
     "name": "stdout",
     "output_type": "stream",
     "text": [
      "[Training complete] - Best loss on validation set: 0.4100693017244339 - Best f1 on validation set: 0.7593622543566927\n",
      "Starting trial 21 with parameters:\n",
      "    Embedding size: 162 - Hidden size: 257\n",
      "    Optimizer: Adam (lr: 0.000596095526672219) - Scheduler: CosineAnnealingWarmRestarts (params: {'T_0': 8, 'T_mult': 3})\n",
      "[NeuralNetwork running on cpu]\n"
     ]
    },
    {
     "name": "stderr",
     "output_type": "stream",
     "text": [
      "[CNNnet] training epoch=12 tr-loss=0.02565 tr-acc=99.29% tr-macroF1=99.15% patience=1/5 val-loss=0.64C:\\Users\\Antonio\\Documents\\UniBO\\NLP\\project\\nlp_unibo_2023-24_project\\experiments_antonio\\experiment_4_code.py:672: FutureWarning: You are using `torch.load` with `weights_only=False` (the current default value), which uses the default pickle module implicitly. It is possible to construct malicious pickle data which will execute arbitrary code during unpickling (See https://github.com/pytorch/pytorch/blob/main/SECURITY.md#untrusted-models for more details). In a future release, the default value for `weights_only` will be flipped to `True`. This limits the functions that could be executed during unpickling. Arbitrary objects will no longer be allowed to be loaded via this mode unless they are explicitly allowlisted by the user via `torch.serialization.add_safe_globals`. We recommend you start setting `weights_only=True` for any use case where you don't have full control of the loaded file. Please open an issue on GitHub for any issues related to this experimental feature.\n",
      "  # Final training pass over validation set\n",
      "[CNNnet] training epoch=12 tr-loss=0.02565 tr-acc=99.29% tr-macroF1=99.15% patience=1/5 val-loss=0.64\n"
     ]
    },
    {
     "name": "stdout",
     "output_type": "stream",
     "text": [
      "Training ended by patience exhausted; loading best model parameters from ../checkpoint/relations/classifier_net.dat from epoch 7\n",
      "Performing a final training pass over the validation set...\n"
     ]
    },
    {
     "name": "stderr",
     "output_type": "stream",
     "text": [
      "[I 2024-10-30 18:30:50,296] Trial 21 finished with value: 0.7669802626915248 and parameters: {'embedding_size': 162, 'hidden_size': 257, 'optimizer': 'Adam', 'lr': 0.000596095526672219, 'scheduler': 'CosineAnnealingWarmRestarts', 'T_0': 8, 'T_mult': 3}. Best is trial 9 with value: 0.8068037111151537.\n"
     ]
    },
    {
     "name": "stdout",
     "output_type": "stream",
     "text": [
      "[Training complete] - Best loss on validation set: 0.4672970771789551 - Best f1 on validation set: 0.7669802626915248\n",
      "Starting trial 22 with parameters:\n",
      "    Embedding size: 172 - Hidden size: 263\n",
      "    Optimizer: Adam (lr: 0.0005589533046794249) - Scheduler: CosineAnnealingWarmRestarts (params: {'T_0': 12, 'T_mult': 2})\n",
      "[NeuralNetwork running on cpu]\n"
     ]
    },
    {
     "name": "stderr",
     "output_type": "stream",
     "text": [
      "[CNNnet] training epoch=9 tr-loss=0.05242 tr-acc=98.11% tr-macroF1=97.74% patience=1/5 val-loss=0.473C:\\Users\\Antonio\\Documents\\UniBO\\NLP\\project\\nlp_unibo_2023-24_project\\experiments_antonio\\experiment_4_code.py:672: FutureWarning: You are using `torch.load` with `weights_only=False` (the current default value), which uses the default pickle module implicitly. It is possible to construct malicious pickle data which will execute arbitrary code during unpickling (See https://github.com/pytorch/pytorch/blob/main/SECURITY.md#untrusted-models for more details). In a future release, the default value for `weights_only` will be flipped to `True`. This limits the functions that could be executed during unpickling. Arbitrary objects will no longer be allowed to be loaded via this mode unless they are explicitly allowlisted by the user via `torch.serialization.add_safe_globals`. We recommend you start setting `weights_only=True` for any use case where you don't have full control of the loaded file. Please open an issue on GitHub for any issues related to this experimental feature.\n",
      "  # Final training pass over validation set\n",
      "[CNNnet] training epoch=9 tr-loss=0.05242 tr-acc=98.11% tr-macroF1=97.74% patience=1/5 val-loss=0.473\n"
     ]
    },
    {
     "name": "stdout",
     "output_type": "stream",
     "text": [
      "Training ended by patience exhausted; loading best model parameters from ../checkpoint/relations/classifier_net.dat from epoch 4\n",
      "Performing a final training pass over the validation set...\n"
     ]
    },
    {
     "name": "stderr",
     "output_type": "stream",
     "text": [
      "[I 2024-10-30 18:34:01,483] Trial 22 finished with value: 0.7939602874348011 and parameters: {'embedding_size': 172, 'hidden_size': 263, 'optimizer': 'Adam', 'lr': 0.0005589533046794249, 'scheduler': 'CosineAnnealingWarmRestarts', 'T_0': 12, 'T_mult': 2}. Best is trial 9 with value: 0.8068037111151537.\n"
     ]
    },
    {
     "name": "stdout",
     "output_type": "stream",
     "text": [
      "[Training complete] - Best loss on validation set: 0.3784707486629486 - Best f1 on validation set: 0.7939602874348011\n",
      "Starting trial 23 with parameters:\n",
      "    Embedding size: 145 - Hidden size: 256\n",
      "    Optimizer: Adam (lr: 0.0009968532374448032) - Scheduler: CosineAnnealingWarmRestarts (params: {'T_0': 10, 'T_mult': 4})\n",
      "[NeuralNetwork running on cpu]\n"
     ]
    },
    {
     "name": "stderr",
     "output_type": "stream",
     "text": [
      "[CNNnet] training epoch=11 tr-loss=0.01987 tr-acc=99.48% tr-macroF1=99.38% patience=1/5 val-loss=0.66C:\\Users\\Antonio\\Documents\\UniBO\\NLP\\project\\nlp_unibo_2023-24_project\\experiments_antonio\\experiment_4_code.py:672: FutureWarning: You are using `torch.load` with `weights_only=False` (the current default value), which uses the default pickle module implicitly. It is possible to construct malicious pickle data which will execute arbitrary code during unpickling (See https://github.com/pytorch/pytorch/blob/main/SECURITY.md#untrusted-models for more details). In a future release, the default value for `weights_only` will be flipped to `True`. This limits the functions that could be executed during unpickling. Arbitrary objects will no longer be allowed to be loaded via this mode unless they are explicitly allowlisted by the user via `torch.serialization.add_safe_globals`. We recommend you start setting `weights_only=True` for any use case where you don't have full control of the loaded file. Please open an issue on GitHub for any issues related to this experimental feature.\n",
      "  # Final training pass over validation set\n",
      "[CNNnet] training epoch=11 tr-loss=0.01987 tr-acc=99.48% tr-macroF1=99.38% patience=1/5 val-loss=0.66\n"
     ]
    },
    {
     "name": "stdout",
     "output_type": "stream",
     "text": [
      "Training ended by patience exhausted; loading best model parameters from ../checkpoint/relations/classifier_net.dat from epoch 6\n",
      "Performing a final training pass over the validation set...\n"
     ]
    },
    {
     "name": "stderr",
     "output_type": "stream",
     "text": [
      "[I 2024-10-30 18:37:23,277] Trial 23 finished with value: 0.7481177347989132 and parameters: {'embedding_size': 145, 'hidden_size': 256, 'optimizer': 'Adam', 'lr': 0.0009968532374448032, 'scheduler': 'CosineAnnealingWarmRestarts', 'T_0': 10, 'T_mult': 4}. Best is trial 9 with value: 0.8068037111151537.\n"
     ]
    },
    {
     "name": "stdout",
     "output_type": "stream",
     "text": [
      "[Training complete] - Best loss on validation set: 0.5684578120708466 - Best f1 on validation set: 0.7481177347989132\n",
      "Starting trial 24 with parameters:\n",
      "    Embedding size: 190 - Hidden size: 291\n",
      "    Optimizer: Adam (lr: 0.000426838445544328) - Scheduler: CosineAnnealingWarmRestarts (params: {'T_0': 6, 'T_mult': 2})\n",
      "[NeuralNetwork running on cpu]\n"
     ]
    },
    {
     "name": "stderr",
     "output_type": "stream",
     "text": [
      "[CNNnet] training epoch=18 tr-loss=0.01842 tr-acc=99.42% tr-macroF1=99.31% patience=1/5 val-loss=0.63C:\\Users\\Antonio\\Documents\\UniBO\\NLP\\project\\nlp_unibo_2023-24_project\\experiments_antonio\\experiment_4_code.py:672: FutureWarning: You are using `torch.load` with `weights_only=False` (the current default value), which uses the default pickle module implicitly. It is possible to construct malicious pickle data which will execute arbitrary code during unpickling (See https://github.com/pytorch/pytorch/blob/main/SECURITY.md#untrusted-models for more details). In a future release, the default value for `weights_only` will be flipped to `True`. This limits the functions that could be executed during unpickling. Arbitrary objects will no longer be allowed to be loaded via this mode unless they are explicitly allowlisted by the user via `torch.serialization.add_safe_globals`. We recommend you start setting `weights_only=True` for any use case where you don't have full control of the loaded file. Please open an issue on GitHub for any issues related to this experimental feature.\n",
      "  # Final training pass over validation set\n",
      "[CNNnet] training epoch=18 tr-loss=0.01842 tr-acc=99.42% tr-macroF1=99.31% patience=1/5 val-loss=0.63\n"
     ]
    },
    {
     "name": "stdout",
     "output_type": "stream",
     "text": [
      "Training ended by patience exhausted; loading best model parameters from ../checkpoint/relations/classifier_net.dat from epoch 13\n",
      "Performing a final training pass over the validation set...\n"
     ]
    },
    {
     "name": "stderr",
     "output_type": "stream",
     "text": [
      "[I 2024-10-30 18:45:04,660] Trial 24 finished with value: 0.7971409154090783 and parameters: {'embedding_size': 190, 'hidden_size': 291, 'optimizer': 'Adam', 'lr': 0.000426838445544328, 'scheduler': 'CosineAnnealingWarmRestarts', 'T_0': 6, 'T_mult': 2}. Best is trial 9 with value: 0.8068037111151537.\n"
     ]
    },
    {
     "name": "stdout",
     "output_type": "stream",
     "text": [
      "[Training complete] - Best loss on validation set: 0.5206275582313538 - Best f1 on validation set: 0.7971409154090783\n",
      "Starting trial 25 with parameters:\n",
      "    Embedding size: 173 - Hidden size: 268\n",
      "    Optimizer: Adam (lr: 0.0006626704845400004) - Scheduler: CosineAnnealingWarmRestarts (params: {'T_0': 9, 'T_mult': 3})\n",
      "[NeuralNetwork running on cpu]\n"
     ]
    },
    {
     "name": "stderr",
     "output_type": "stream",
     "text": [
      "[CNNnet] training epoch=12 tr-loss=0.01855 tr-acc=99.53% tr-macroF1=99.44% patience=1/5 val-loss=0.61C:\\Users\\Antonio\\Documents\\UniBO\\NLP\\project\\nlp_unibo_2023-24_project\\experiments_antonio\\experiment_4_code.py:672: FutureWarning: You are using `torch.load` with `weights_only=False` (the current default value), which uses the default pickle module implicitly. It is possible to construct malicious pickle data which will execute arbitrary code during unpickling (See https://github.com/pytorch/pytorch/blob/main/SECURITY.md#untrusted-models for more details). In a future release, the default value for `weights_only` will be flipped to `True`. This limits the functions that could be executed during unpickling. Arbitrary objects will no longer be allowed to be loaded via this mode unless they are explicitly allowlisted by the user via `torch.serialization.add_safe_globals`. We recommend you start setting `weights_only=True` for any use case where you don't have full control of the loaded file. Please open an issue on GitHub for any issues related to this experimental feature.\n",
      "  # Final training pass over validation set\n",
      "[CNNnet] training epoch=12 tr-loss=0.01855 tr-acc=99.53% tr-macroF1=99.44% patience=1/5 val-loss=0.61\n"
     ]
    },
    {
     "name": "stdout",
     "output_type": "stream",
     "text": [
      "Training ended by patience exhausted; loading best model parameters from ../checkpoint/relations/classifier_net.dat from epoch 7\n",
      "Performing a final training pass over the validation set...\n"
     ]
    },
    {
     "name": "stderr",
     "output_type": "stream",
     "text": [
      "[I 2024-10-30 18:49:22,336] Trial 25 finished with value: 0.7997334381682024 and parameters: {'embedding_size': 173, 'hidden_size': 268, 'optimizer': 'Adam', 'lr': 0.0006626704845400004, 'scheduler': 'CosineAnnealingWarmRestarts', 'T_0': 9, 'T_mult': 3}. Best is trial 9 with value: 0.8068037111151537.\n"
     ]
    },
    {
     "name": "stdout",
     "output_type": "stream",
     "text": [
      "[Training complete] - Best loss on validation set: 0.4875870794057846 - Best f1 on validation set: 0.7997334381682024\n",
      "Starting trial 26 with parameters:\n",
      "    Embedding size: 156 - Hidden size: 277\n",
      "    Optimizer: Adam (lr: 0.0003167393235445352) - Scheduler: CosineAnnealingWarmRestarts (params: {'T_0': 12, 'T_mult': 4})\n",
      "[NeuralNetwork running on cpu]\n"
     ]
    },
    {
     "name": "stderr",
     "output_type": "stream",
     "text": [
      "[CNNnet] training epoch=27 tr-loss=0.02078 tr-acc=99.20% tr-macroF1=99.05% patience=1/5 val-loss=0.80C:\\Users\\Antonio\\Documents\\UniBO\\NLP\\project\\nlp_unibo_2023-24_project\\experiments_antonio\\experiment_4_code.py:672: FutureWarning: You are using `torch.load` with `weights_only=False` (the current default value), which uses the default pickle module implicitly. It is possible to construct malicious pickle data which will execute arbitrary code during unpickling (See https://github.com/pytorch/pytorch/blob/main/SECURITY.md#untrusted-models for more details). In a future release, the default value for `weights_only` will be flipped to `True`. This limits the functions that could be executed during unpickling. Arbitrary objects will no longer be allowed to be loaded via this mode unless they are explicitly allowlisted by the user via `torch.serialization.add_safe_globals`. We recommend you start setting `weights_only=True` for any use case where you don't have full control of the loaded file. Please open an issue on GitHub for any issues related to this experimental feature.\n",
      "  # Final training pass over validation set\n",
      "[CNNnet] training epoch=27 tr-loss=0.02078 tr-acc=99.20% tr-macroF1=99.05% patience=1/5 val-loss=0.80\n"
     ]
    },
    {
     "name": "stdout",
     "output_type": "stream",
     "text": [
      "Training ended by patience exhausted; loading best model parameters from ../checkpoint/relations/classifier_net.dat from epoch 22\n",
      "Performing a final training pass over the validation set...\n"
     ]
    },
    {
     "name": "stderr",
     "output_type": "stream",
     "text": [
      "[I 2024-10-30 18:58:09,188] Trial 26 finished with value: 0.7888822350862407 and parameters: {'embedding_size': 156, 'hidden_size': 277, 'optimizer': 'Adam', 'lr': 0.0003167393235445352, 'scheduler': 'CosineAnnealingWarmRestarts', 'T_0': 12, 'T_mult': 4}. Best is trial 9 with value: 0.8068037111151537.\n"
     ]
    },
    {
     "name": "stdout",
     "output_type": "stream",
     "text": [
      "[Training complete] - Best loss on validation set: 0.6176514625549316 - Best f1 on validation set: 0.7888822350862407\n",
      "Starting trial 27 with parameters:\n",
      "    Embedding size: 163 - Hidden size: 262\n",
      "    Optimizer: Adam (lr: 0.0007883398409050293) - Scheduler: CosineAnnealingWarmRestarts (params: {'T_0': 6, 'T_mult': 1})\n",
      "[NeuralNetwork running on cpu]\n"
     ]
    },
    {
     "name": "stderr",
     "output_type": "stream",
     "text": [
      "[CNNnet] training epoch=13 tr-loss=0.02720 tr-acc=99.42% tr-macroF1=99.31% patience=1/5 val-loss=0.73C:\\Users\\Antonio\\Documents\\UniBO\\NLP\\project\\nlp_unibo_2023-24_project\\experiments_antonio\\experiment_4_code.py:672: FutureWarning: You are using `torch.load` with `weights_only=False` (the current default value), which uses the default pickle module implicitly. It is possible to construct malicious pickle data which will execute arbitrary code during unpickling (See https://github.com/pytorch/pytorch/blob/main/SECURITY.md#untrusted-models for more details). In a future release, the default value for `weights_only` will be flipped to `True`. This limits the functions that could be executed during unpickling. Arbitrary objects will no longer be allowed to be loaded via this mode unless they are explicitly allowlisted by the user via `torch.serialization.add_safe_globals`. We recommend you start setting `weights_only=True` for any use case where you don't have full control of the loaded file. Please open an issue on GitHub for any issues related to this experimental feature.\n",
      "  # Final training pass over validation set\n",
      "[CNNnet] training epoch=13 tr-loss=0.02720 tr-acc=99.42% tr-macroF1=99.31% patience=1/5 val-loss=0.73\n"
     ]
    },
    {
     "name": "stdout",
     "output_type": "stream",
     "text": [
      "Training ended by patience exhausted; loading best model parameters from ../checkpoint/relations/classifier_net.dat from epoch 8\n",
      "Performing a final training pass over the validation set...\n"
     ]
    },
    {
     "name": "stderr",
     "output_type": "stream",
     "text": [
      "[I 2024-10-30 19:02:30,779] Trial 27 finished with value: 0.7903071348885884 and parameters: {'embedding_size': 163, 'hidden_size': 262, 'optimizer': 'Adam', 'lr': 0.0007883398409050293, 'scheduler': 'CosineAnnealingWarmRestarts', 'T_0': 6, 'T_mult': 1}. Best is trial 9 with value: 0.8068037111151537.\n"
     ]
    },
    {
     "name": "stdout",
     "output_type": "stream",
     "text": [
      "[Training complete] - Best loss on validation set: 0.5102259069681168 - Best f1 on validation set: 0.7903071348885884\n",
      "Starting trial 28 with parameters:\n",
      "    Embedding size: 192 - Hidden size: 294\n",
      "    Optimizer: Adam (lr: 0.0004774788218341842) - Scheduler: CosineAnnealingLR (params: {'T_max': 5})\n",
      "[NeuralNetwork running on cpu]\n"
     ]
    },
    {
     "name": "stderr",
     "output_type": "stream",
     "text": [
      "[CNNnet] training epoch=10 tr-loss=0.10045 tr-acc=96.28% tr-macroF1=95.57% patience=1/5 val-loss=0.46C:\\Users\\Antonio\\Documents\\UniBO\\NLP\\project\\nlp_unibo_2023-24_project\\experiments_antonio\\experiment_4_code.py:672: FutureWarning: You are using `torch.load` with `weights_only=False` (the current default value), which uses the default pickle module implicitly. It is possible to construct malicious pickle data which will execute arbitrary code during unpickling (See https://github.com/pytorch/pytorch/blob/main/SECURITY.md#untrusted-models for more details). In a future release, the default value for `weights_only` will be flipped to `True`. This limits the functions that could be executed during unpickling. Arbitrary objects will no longer be allowed to be loaded via this mode unless they are explicitly allowlisted by the user via `torch.serialization.add_safe_globals`. We recommend you start setting `weights_only=True` for any use case where you don't have full control of the loaded file. Please open an issue on GitHub for any issues related to this experimental feature.\n",
      "  # Final training pass over validation set\n",
      "[CNNnet] training epoch=10 tr-loss=0.10045 tr-acc=96.28% tr-macroF1=95.57% patience=1/5 val-loss=0.46\n"
     ]
    },
    {
     "name": "stdout",
     "output_type": "stream",
     "text": [
      "Training ended by patience exhausted; loading best model parameters from ../checkpoint/relations/classifier_net.dat from epoch 5\n",
      "Performing a final training pass over the validation set...\n"
     ]
    },
    {
     "name": "stderr",
     "output_type": "stream",
     "text": [
      "[I 2024-10-30 19:06:41,774] Trial 28 finished with value: 0.7899743230625583 and parameters: {'embedding_size': 192, 'hidden_size': 294, 'optimizer': 'Adam', 'lr': 0.0004774788218341842, 'scheduler': 'CosineAnnealingLR', 'T_max': 5}. Best is trial 9 with value: 0.8068037111151537.\n"
     ]
    },
    {
     "name": "stdout",
     "output_type": "stream",
     "text": [
      "[Training complete] - Best loss on validation set: 0.38049736618995667 - Best f1 on validation set: 0.7899743230625583\n",
      "Starting trial 29 with parameters:\n",
      "    Embedding size: 177 - Hidden size: 273\n",
      "    Optimizer: Adam (lr: 0.0001553057482756347) - Scheduler: CosineAnnealingWarmRestarts (params: {'T_0': 10, 'T_mult': 3})\n",
      "[NeuralNetwork running on cpu]\n"
     ]
    },
    {
     "name": "stderr",
     "output_type": "stream",
     "text": [
      "[CNNnet] training epoch=11 tr-loss=0.09503 tr-acc=97.27% tr-macroF1=96.74% patience=1/5 val-loss=0.48C:\\Users\\Antonio\\Documents\\UniBO\\NLP\\project\\nlp_unibo_2023-24_project\\experiments_antonio\\experiment_4_code.py:672: FutureWarning: You are using `torch.load` with `weights_only=False` (the current default value), which uses the default pickle module implicitly. It is possible to construct malicious pickle data which will execute arbitrary code during unpickling (See https://github.com/pytorch/pytorch/blob/main/SECURITY.md#untrusted-models for more details). In a future release, the default value for `weights_only` will be flipped to `True`. This limits the functions that could be executed during unpickling. Arbitrary objects will no longer be allowed to be loaded via this mode unless they are explicitly allowlisted by the user via `torch.serialization.add_safe_globals`. We recommend you start setting `weights_only=True` for any use case where you don't have full control of the loaded file. Please open an issue on GitHub for any issues related to this experimental feature.\n",
      "  # Final training pass over validation set\n",
      "[CNNnet] training epoch=11 tr-loss=0.09503 tr-acc=97.27% tr-macroF1=96.74% patience=1/5 val-loss=0.48\n"
     ]
    },
    {
     "name": "stdout",
     "output_type": "stream",
     "text": [
      "Training ended by patience exhausted; loading best model parameters from ../checkpoint/relations/classifier_net.dat from epoch 6\n",
      "Performing a final training pass over the validation set...\n"
     ]
    },
    {
     "name": "stderr",
     "output_type": "stream",
     "text": [
      "[I 2024-10-30 19:10:47,047] Trial 29 finished with value: 0.7870817872475451 and parameters: {'embedding_size': 177, 'hidden_size': 273, 'optimizer': 'Adam', 'lr': 0.0001553057482756347, 'scheduler': 'CosineAnnealingWarmRestarts', 'T_0': 10, 'T_mult': 3}. Best is trial 9 with value: 0.8068037111151537.\n"
     ]
    },
    {
     "name": "stdout",
     "output_type": "stream",
     "text": [
      "[Training complete] - Best loss on validation set: 0.429781973361969 - Best f1 on validation set: 0.7870817872475451\n",
      "Starting trial 30 with parameters:\n",
      "    Embedding size: 147 - Hidden size: 285\n",
      "    Optimizer: Adam (lr: 0.00032062025401670543) - Scheduler: CosineAnnealingWarmRestarts (params: {'T_0': 8, 'T_mult': 2})\n",
      "[NeuralNetwork running on cpu]\n"
     ]
    },
    {
     "name": "stderr",
     "output_type": "stream",
     "text": [
      "[CNNnet] training epoch=14 tr-loss=0.03786 tr-acc=98.90% tr-macroF1=98.69% patience=1/5 val-loss=0.49C:\\Users\\Antonio\\Documents\\UniBO\\NLP\\project\\nlp_unibo_2023-24_project\\experiments_antonio\\experiment_4_code.py:672: FutureWarning: You are using `torch.load` with `weights_only=False` (the current default value), which uses the default pickle module implicitly. It is possible to construct malicious pickle data which will execute arbitrary code during unpickling (See https://github.com/pytorch/pytorch/blob/main/SECURITY.md#untrusted-models for more details). In a future release, the default value for `weights_only` will be flipped to `True`. This limits the functions that could be executed during unpickling. Arbitrary objects will no longer be allowed to be loaded via this mode unless they are explicitly allowlisted by the user via `torch.serialization.add_safe_globals`. We recommend you start setting `weights_only=True` for any use case where you don't have full control of the loaded file. Please open an issue on GitHub for any issues related to this experimental feature.\n",
      "  # Final training pass over validation set\n",
      "[CNNnet] training epoch=14 tr-loss=0.03786 tr-acc=98.90% tr-macroF1=98.69% patience=1/5 val-loss=0.49\n"
     ]
    },
    {
     "name": "stdout",
     "output_type": "stream",
     "text": [
      "Training ended by patience exhausted; loading best model parameters from ../checkpoint/relations/classifier_net.dat from epoch 9\n",
      "Performing a final training pass over the validation set...\n"
     ]
    },
    {
     "name": "stderr",
     "output_type": "stream",
     "text": [
      "[I 2024-10-30 19:15:17,092] Trial 30 finished with value: 0.7812346277157187 and parameters: {'embedding_size': 147, 'hidden_size': 285, 'optimizer': 'Adam', 'lr': 0.00032062025401670543, 'scheduler': 'CosineAnnealingWarmRestarts', 'T_0': 8, 'T_mult': 2}. Best is trial 9 with value: 0.8068037111151537.\n"
     ]
    },
    {
     "name": "stdout",
     "output_type": "stream",
     "text": [
      "[Training complete] - Best loss on validation set: 0.4391588568687439 - Best f1 on validation set: 0.7812346277157187\n",
      "Starting trial 31 with parameters:\n",
      "    Embedding size: 199 - Hidden size: 276\n",
      "    Optimizer: Adam (lr: 0.00040765525110272237) - Scheduler: CosineAnnealingWarmRestarts (params: {'T_0': 4, 'T_mult': 2})\n",
      "[NeuralNetwork running on cpu]\n"
     ]
    },
    {
     "name": "stderr",
     "output_type": "stream",
     "text": [
      "[CNNnet] training epoch=10 tr-loss=0.05688 tr-acc=98.06% tr-macroF1=97.69% patience=1/5 val-loss=0.51C:\\Users\\Antonio\\Documents\\UniBO\\NLP\\project\\nlp_unibo_2023-24_project\\experiments_antonio\\experiment_4_code.py:672: FutureWarning: You are using `torch.load` with `weights_only=False` (the current default value), which uses the default pickle module implicitly. It is possible to construct malicious pickle data which will execute arbitrary code during unpickling (See https://github.com/pytorch/pytorch/blob/main/SECURITY.md#untrusted-models for more details). In a future release, the default value for `weights_only` will be flipped to `True`. This limits the functions that could be executed during unpickling. Arbitrary objects will no longer be allowed to be loaded via this mode unless they are explicitly allowlisted by the user via `torch.serialization.add_safe_globals`. We recommend you start setting `weights_only=True` for any use case where you don't have full control of the loaded file. Please open an issue on GitHub for any issues related to this experimental feature.\n",
      "  # Final training pass over validation set\n",
      "[CNNnet] training epoch=10 tr-loss=0.05688 tr-acc=98.06% tr-macroF1=97.69% patience=1/5 val-loss=0.51\n"
     ]
    },
    {
     "name": "stdout",
     "output_type": "stream",
     "text": [
      "Training ended by patience exhausted; loading best model parameters from ../checkpoint/relations/classifier_net.dat from epoch 5\n",
      "Performing a final training pass over the validation set...\n"
     ]
    },
    {
     "name": "stderr",
     "output_type": "stream",
     "text": [
      "[I 2024-10-30 19:19:25,631] Trial 31 finished with value: 0.7937773070303191 and parameters: {'embedding_size': 199, 'hidden_size': 276, 'optimizer': 'Adam', 'lr': 0.00040765525110272237, 'scheduler': 'CosineAnnealingWarmRestarts', 'T_0': 4, 'T_mult': 2}. Best is trial 9 with value: 0.8068037111151537.\n"
     ]
    },
    {
     "name": "stdout",
     "output_type": "stream",
     "text": [
      "[Training complete] - Best loss on validation set: 0.39496470987796783 - Best f1 on validation set: 0.7937773070303191\n",
      "Starting trial 32 with parameters:\n",
      "    Embedding size: 192 - Hidden size: 273\n",
      "    Optimizer: Adam (lr: 0.0008105724333512531) - Scheduler: CosineAnnealingWarmRestarts (params: {'T_0': 4, 'T_mult': 2})\n",
      "[NeuralNetwork running on cpu]\n"
     ]
    },
    {
     "name": "stderr",
     "output_type": "stream",
     "text": [
      "[CNNnet] training epoch=7 tr-loss=0.05091 tr-acc=98.34% tr-macroF1=98.02% patience=1/5 val-loss=0.485C:\\Users\\Antonio\\Documents\\UniBO\\NLP\\project\\nlp_unibo_2023-24_project\\experiments_antonio\\experiment_4_code.py:672: FutureWarning: You are using `torch.load` with `weights_only=False` (the current default value), which uses the default pickle module implicitly. It is possible to construct malicious pickle data which will execute arbitrary code during unpickling (See https://github.com/pytorch/pytorch/blob/main/SECURITY.md#untrusted-models for more details). In a future release, the default value for `weights_only` will be flipped to `True`. This limits the functions that could be executed during unpickling. Arbitrary objects will no longer be allowed to be loaded via this mode unless they are explicitly allowlisted by the user via `torch.serialization.add_safe_globals`. We recommend you start setting `weights_only=True` for any use case where you don't have full control of the loaded file. Please open an issue on GitHub for any issues related to this experimental feature.\n",
      "  # Final training pass over validation set\n",
      "[CNNnet] training epoch=7 tr-loss=0.05091 tr-acc=98.34% tr-macroF1=98.02% patience=1/5 val-loss=0.485\n"
     ]
    },
    {
     "name": "stdout",
     "output_type": "stream",
     "text": [
      "Training ended by patience exhausted; loading best model parameters from ../checkpoint/relations/classifier_net.dat from epoch 2\n",
      "Performing a final training pass over the validation set...\n"
     ]
    },
    {
     "name": "stderr",
     "output_type": "stream",
     "text": [
      "[I 2024-10-30 19:22:14,628] Trial 32 finished with value: 0.7791919321777263 and parameters: {'embedding_size': 192, 'hidden_size': 273, 'optimizer': 'Adam', 'lr': 0.0008105724333512531, 'scheduler': 'CosineAnnealingWarmRestarts', 'T_0': 4, 'T_mult': 2}. Best is trial 9 with value: 0.8068037111151537.\n"
     ]
    },
    {
     "name": "stdout",
     "output_type": "stream",
     "text": [
      "[Training complete] - Best loss on validation set: 0.4050210416316986 - Best f1 on validation set: 0.7791919321777263\n",
      "Starting trial 33 with parameters:\n",
      "    Embedding size: 166 - Hidden size: 281\n",
      "    Optimizer: Adam (lr: 0.00046563338303563654) - Scheduler: CosineAnnealingWarmRestarts (params: {'T_0': 2, 'T_mult': 3})\n",
      "[NeuralNetwork running on cpu]\n"
     ]
    },
    {
     "name": "stderr",
     "output_type": "stream",
     "text": [
      "[CNNnet] training epoch=13 tr-loss=0.07408 tr-acc=97.63% tr-macroF1=97.18% patience=1/5 val-loss=0.72C:\\Users\\Antonio\\Documents\\UniBO\\NLP\\project\\nlp_unibo_2023-24_project\\experiments_antonio\\experiment_4_code.py:672: FutureWarning: You are using `torch.load` with `weights_only=False` (the current default value), which uses the default pickle module implicitly. It is possible to construct malicious pickle data which will execute arbitrary code during unpickling (See https://github.com/pytorch/pytorch/blob/main/SECURITY.md#untrusted-models for more details). In a future release, the default value for `weights_only` will be flipped to `True`. This limits the functions that could be executed during unpickling. Arbitrary objects will no longer be allowed to be loaded via this mode unless they are explicitly allowlisted by the user via `torch.serialization.add_safe_globals`. We recommend you start setting `weights_only=True` for any use case where you don't have full control of the loaded file. Please open an issue on GitHub for any issues related to this experimental feature.\n",
      "  # Final training pass over validation set\n",
      "[CNNnet] training epoch=13 tr-loss=0.07408 tr-acc=97.63% tr-macroF1=97.18% patience=1/5 val-loss=0.72\n"
     ]
    },
    {
     "name": "stdout",
     "output_type": "stream",
     "text": [
      "Training ended by patience exhausted; loading best model parameters from ../checkpoint/relations/classifier_net.dat from epoch 8\n",
      "Performing a final training pass over the validation set...\n"
     ]
    },
    {
     "name": "stderr",
     "output_type": "stream",
     "text": [
      "[I 2024-10-30 19:26:52,916] Trial 33 finished with value: 0.7899743230625583 and parameters: {'embedding_size': 166, 'hidden_size': 281, 'optimizer': 'Adam', 'lr': 0.00046563338303563654, 'scheduler': 'CosineAnnealingWarmRestarts', 'T_0': 2, 'T_mult': 3}. Best is trial 9 with value: 0.8068037111151537.\n"
     ]
    },
    {
     "name": "stdout",
     "output_type": "stream",
     "text": [
      "[Training complete] - Best loss on validation set: 0.4403691589832306 - Best f1 on validation set: 0.7899743230625583\n",
      "Starting trial 34 with parameters:\n",
      "    Embedding size: 135 - Hidden size: 273\n",
      "    Optimizer: Adam (lr: 0.0007545644559317492) - Scheduler: CosineAnnealingWarmRestarts (params: {'T_0': 5, 'T_mult': 1})\n",
      "[NeuralNetwork running on cpu]\n"
     ]
    },
    {
     "name": "stderr",
     "output_type": "stream",
     "text": [
      "[CNNnet] training epoch=10 tr-loss=0.04028 tr-acc=98.64% tr-macroF1=98.39% patience=1/5 val-loss=0.72C:\\Users\\Antonio\\Documents\\UniBO\\NLP\\project\\nlp_unibo_2023-24_project\\experiments_antonio\\experiment_4_code.py:672: FutureWarning: You are using `torch.load` with `weights_only=False` (the current default value), which uses the default pickle module implicitly. It is possible to construct malicious pickle data which will execute arbitrary code during unpickling (See https://github.com/pytorch/pytorch/blob/main/SECURITY.md#untrusted-models for more details). In a future release, the default value for `weights_only` will be flipped to `True`. This limits the functions that could be executed during unpickling. Arbitrary objects will no longer be allowed to be loaded via this mode unless they are explicitly allowlisted by the user via `torch.serialization.add_safe_globals`. We recommend you start setting `weights_only=True` for any use case where you don't have full control of the loaded file. Please open an issue on GitHub for any issues related to this experimental feature.\n",
      "  # Final training pass over validation set\n",
      "[CNNnet] training epoch=10 tr-loss=0.04028 tr-acc=98.64% tr-macroF1=98.39% patience=1/5 val-loss=0.72\n"
     ]
    },
    {
     "name": "stdout",
     "output_type": "stream",
     "text": [
      "Training ended by patience exhausted; loading best model parameters from ../checkpoint/relations/classifier_net.dat from epoch 5\n",
      "Performing a final training pass over the validation set...\n"
     ]
    },
    {
     "name": "stderr",
     "output_type": "stream",
     "text": [
      "[I 2024-10-30 19:29:53,826] Trial 34 finished with value: 0.7725163801058506 and parameters: {'embedding_size': 135, 'hidden_size': 273, 'optimizer': 'Adam', 'lr': 0.0007545644559317492, 'scheduler': 'CosineAnnealingWarmRestarts', 'T_0': 5, 'T_mult': 1}. Best is trial 9 with value: 0.8068037111151537.\n"
     ]
    },
    {
     "name": "stdout",
     "output_type": "stream",
     "text": [
      "[Training complete] - Best loss on validation set: 0.42851191759109497 - Best f1 on validation set: 0.7725163801058506\n",
      "Starting trial 35 with parameters:\n",
      "    Embedding size: 116 - Hidden size: 279\n",
      "    Optimizer: Adam (lr: 0.00028844696620494324) - Scheduler: CosineAnnealingLR (params: {'T_max': 10})\n",
      "[NeuralNetwork running on cpu]\n"
     ]
    },
    {
     "name": "stderr",
     "output_type": "stream",
     "text": [
      "[CNNnet] training epoch=18 tr-loss=0.05690 tr-acc=98.04% tr-macroF1=97.66% patience=1/5 val-loss=0.52C:\\Users\\Antonio\\Documents\\UniBO\\NLP\\project\\nlp_unibo_2023-24_project\\experiments_antonio\\experiment_4_code.py:672: FutureWarning: You are using `torch.load` with `weights_only=False` (the current default value), which uses the default pickle module implicitly. It is possible to construct malicious pickle data which will execute arbitrary code during unpickling (See https://github.com/pytorch/pytorch/blob/main/SECURITY.md#untrusted-models for more details). In a future release, the default value for `weights_only` will be flipped to `True`. This limits the functions that could be executed during unpickling. Arbitrary objects will no longer be allowed to be loaded via this mode unless they are explicitly allowlisted by the user via `torch.serialization.add_safe_globals`. We recommend you start setting `weights_only=True` for any use case where you don't have full control of the loaded file. Please open an issue on GitHub for any issues related to this experimental feature.\n",
      "  # Final training pass over validation set\n",
      "[CNNnet] training epoch=18 tr-loss=0.05690 tr-acc=98.04% tr-macroF1=97.66% patience=1/5 val-loss=0.52\n"
     ]
    },
    {
     "name": "stdout",
     "output_type": "stream",
     "text": [
      "Training ended by patience exhausted; loading best model parameters from ../checkpoint/relations/classifier_net.dat from epoch 13\n",
      "Performing a final training pass over the validation set...\n"
     ]
    },
    {
     "name": "stderr",
     "output_type": "stream",
     "text": [
      "[I 2024-10-30 19:34:40,137] Trial 35 finished with value: 0.7829169260501547 and parameters: {'embedding_size': 116, 'hidden_size': 279, 'optimizer': 'Adam', 'lr': 0.00028844696620494324, 'scheduler': 'CosineAnnealingLR', 'T_max': 10}. Best is trial 9 with value: 0.8068037111151537.\n"
     ]
    },
    {
     "name": "stdout",
     "output_type": "stream",
     "text": [
      "[Training complete] - Best loss on validation set: 0.42854996025562286 - Best f1 on validation set: 0.7829169260501547\n",
      "Starting trial 36 with parameters:\n",
      "    Embedding size: 185 - Hidden size: 268\n",
      "    Optimizer: Adam (lr: 0.0003668286526745206) - Scheduler: CosineAnnealingWarmRestarts (params: {'T_0': 3, 'T_mult': 3})\n",
      "[NeuralNetwork running on cpu]\n"
     ]
    },
    {
     "name": "stderr",
     "output_type": "stream",
     "text": [
      "[CNNnet] training epoch=13 tr-loss=0.02678 tr-acc=99.14% tr-macroF1=98.97% patience=1/5 val-loss=0.55C:\\Users\\Antonio\\Documents\\UniBO\\NLP\\project\\nlp_unibo_2023-24_project\\experiments_antonio\\experiment_4_code.py:672: FutureWarning: You are using `torch.load` with `weights_only=False` (the current default value), which uses the default pickle module implicitly. It is possible to construct malicious pickle data which will execute arbitrary code during unpickling (See https://github.com/pytorch/pytorch/blob/main/SECURITY.md#untrusted-models for more details). In a future release, the default value for `weights_only` will be flipped to `True`. This limits the functions that could be executed during unpickling. Arbitrary objects will no longer be allowed to be loaded via this mode unless they are explicitly allowlisted by the user via `torch.serialization.add_safe_globals`. We recommend you start setting `weights_only=True` for any use case where you don't have full control of the loaded file. Please open an issue on GitHub for any issues related to this experimental feature.\n",
      "  # Final training pass over validation set\n",
      "[CNNnet] training epoch=13 tr-loss=0.02678 tr-acc=99.14% tr-macroF1=98.97% patience=1/5 val-loss=0.55\n"
     ]
    },
    {
     "name": "stdout",
     "output_type": "stream",
     "text": [
      "Training ended by patience exhausted; loading best model parameters from ../checkpoint/relations/classifier_net.dat from epoch 8\n",
      "Performing a final training pass over the validation set...\n"
     ]
    },
    {
     "name": "stderr",
     "output_type": "stream",
     "text": [
      "[I 2024-10-30 19:39:35,559] Trial 36 finished with value: 0.7699069117109854 and parameters: {'embedding_size': 185, 'hidden_size': 268, 'optimizer': 'Adam', 'lr': 0.0003668286526745206, 'scheduler': 'CosineAnnealingWarmRestarts', 'T_0': 3, 'T_mult': 3}. Best is trial 9 with value: 0.8068037111151537.\n"
     ]
    },
    {
     "name": "stdout",
     "output_type": "stream",
     "text": [
      "[Training complete] - Best loss on validation set: 0.49046850204467773 - Best f1 on validation set: 0.7699069117109854\n",
      "Starting trial 37 with parameters:\n",
      "    Embedding size: 200 - Hidden size: 283\n",
      "    Optimizer: Adam (lr: 0.000501975680366069) - Scheduler: CosineAnnealingLR (params: {'T_max': 6})\n",
      "[NeuralNetwork running on cpu]\n"
     ]
    },
    {
     "name": "stderr",
     "output_type": "stream",
     "text": [
      "[CNNnet] training epoch=18 tr-loss=0.09121 tr-acc=96.81% tr-macroF1=96.21% patience=1/5 val-loss=0.63C:\\Users\\Antonio\\Documents\\UniBO\\NLP\\project\\nlp_unibo_2023-24_project\\experiments_antonio\\experiment_4_code.py:672: FutureWarning: You are using `torch.load` with `weights_only=False` (the current default value), which uses the default pickle module implicitly. It is possible to construct malicious pickle data which will execute arbitrary code during unpickling (See https://github.com/pytorch/pytorch/blob/main/SECURITY.md#untrusted-models for more details). In a future release, the default value for `weights_only` will be flipped to `True`. This limits the functions that could be executed during unpickling. Arbitrary objects will no longer be allowed to be loaded via this mode unless they are explicitly allowlisted by the user via `torch.serialization.add_safe_globals`. We recommend you start setting `weights_only=True` for any use case where you don't have full control of the loaded file. Please open an issue on GitHub for any issues related to this experimental feature.\n",
      "  # Final training pass over validation set\n",
      "[CNNnet] training epoch=18 tr-loss=0.09121 tr-acc=96.81% tr-macroF1=96.21% patience=1/5 val-loss=0.63\n"
     ]
    },
    {
     "name": "stdout",
     "output_type": "stream",
     "text": [
      "Training ended by patience exhausted; loading best model parameters from ../checkpoint/relations/classifier_net.dat from epoch 13\n",
      "Performing a final training pass over the validation set...\n"
     ]
    },
    {
     "name": "stderr",
     "output_type": "stream",
     "text": [
      "[I 2024-10-30 19:47:04,283] Trial 37 finished with value: 0.794997159737679 and parameters: {'embedding_size': 200, 'hidden_size': 283, 'optimizer': 'Adam', 'lr': 0.000501975680366069, 'scheduler': 'CosineAnnealingLR', 'T_max': 6}. Best is trial 9 with value: 0.8068037111151537.\n"
     ]
    },
    {
     "name": "stdout",
     "output_type": "stream",
     "text": [
      "[Training complete] - Best loss on validation set: 0.648291289806366 - Best f1 on validation set: 0.794997159737679\n",
      "Starting trial 38 with parameters:\n",
      "    Embedding size: 178 - Hidden size: 270\n",
      "    Optimizer: Adam (lr: 1.6385199948579347e-05) - Scheduler: CosineAnnealingLR (params: {'T_max': 10})\n",
      "[NeuralNetwork running on cpu]\n"
     ]
    },
    {
     "name": "stderr",
     "output_type": "stream",
     "text": [
      "[CNNnet] training epoch=6 tr-loss=0.57858 tr-acc=70.57% tr-macroF1=48.11% patience=1/5 val-loss=0.578C:\\Users\\Antonio\\Documents\\UniBO\\NLP\\project\\nlp_unibo_2023-24_project\\experiments_antonio\\experiment_4_code.py:672: FutureWarning: You are using `torch.load` with `weights_only=False` (the current default value), which uses the default pickle module implicitly. It is possible to construct malicious pickle data which will execute arbitrary code during unpickling (See https://github.com/pytorch/pytorch/blob/main/SECURITY.md#untrusted-models for more details). In a future release, the default value for `weights_only` will be flipped to `True`. This limits the functions that could be executed during unpickling. Arbitrary objects will no longer be allowed to be loaded via this mode unless they are explicitly allowlisted by the user via `torch.serialization.add_safe_globals`. We recommend you start setting `weights_only=True` for any use case where you don't have full control of the loaded file. Please open an issue on GitHub for any issues related to this experimental feature.\n",
      "  # Final training pass over validation set\n",
      "[CNNnet] training epoch=6 tr-loss=0.57858 tr-acc=70.57% tr-macroF1=48.11% patience=1/5 val-loss=0.578\n"
     ]
    },
    {
     "name": "stdout",
     "output_type": "stream",
     "text": [
      "Training ended by patience exhausted; loading best model parameters from ../checkpoint/relations/classifier_net.dat from epoch 1\n",
      "Performing a final training pass over the validation set...\n"
     ]
    },
    {
     "name": "stderr",
     "output_type": "stream",
     "text": [
      "[I 2024-10-30 19:49:17,929] Trial 38 finished with value: 0.4104912572855953 and parameters: {'embedding_size': 178, 'hidden_size': 270, 'optimizer': 'Adam', 'lr': 1.6385199948579347e-05, 'scheduler': 'CosineAnnealingLR', 'T_max': 10}. Best is trial 9 with value: 0.8068037111151537.\n"
     ]
    },
    {
     "name": "stdout",
     "output_type": "stream",
     "text": [
      "[Training complete] - Best loss on validation set: 0.6072590351104736 - Best f1 on validation set: 0.4104912572855953\n",
      "Starting trial 39 with parameters:\n",
      "    Embedding size: 171 - Hidden size: 260\n",
      "    Optimizer: Adam (lr: 7.412761369975003e-05) - Scheduler: CosineAnnealingWarmRestarts (params: {'T_0': 7, 'T_mult': 4})\n",
      "[NeuralNetwork running on cpu]\n"
     ]
    },
    {
     "name": "stderr",
     "output_type": "stream",
     "text": [
      "[CNNnet] training epoch=14 tr-loss=0.19748 tr-acc=93.09% tr-macroF1=91.63% patience=1/5 val-loss=0.42C:\\Users\\Antonio\\Documents\\UniBO\\NLP\\project\\nlp_unibo_2023-24_project\\experiments_antonio\\experiment_4_code.py:672: FutureWarning: You are using `torch.load` with `weights_only=False` (the current default value), which uses the default pickle module implicitly. It is possible to construct malicious pickle data which will execute arbitrary code during unpickling (See https://github.com/pytorch/pytorch/blob/main/SECURITY.md#untrusted-models for more details). In a future release, the default value for `weights_only` will be flipped to `True`. This limits the functions that could be executed during unpickling. Arbitrary objects will no longer be allowed to be loaded via this mode unless they are explicitly allowlisted by the user via `torch.serialization.add_safe_globals`. We recommend you start setting `weights_only=True` for any use case where you don't have full control of the loaded file. Please open an issue on GitHub for any issues related to this experimental feature.\n",
      "  # Final training pass over validation set\n",
      "[CNNnet] training epoch=14 tr-loss=0.19748 tr-acc=93.09% tr-macroF1=91.63% patience=1/5 val-loss=0.42\n"
     ]
    },
    {
     "name": "stdout",
     "output_type": "stream",
     "text": [
      "Training ended by patience exhausted; loading best model parameters from ../checkpoint/relations/classifier_net.dat from epoch 9\n",
      "Performing a final training pass over the validation set...\n"
     ]
    },
    {
     "name": "stderr",
     "output_type": "stream",
     "text": [
      "[I 2024-10-30 19:54:10,981] Trial 39 finished with value: 0.7429887155658812 and parameters: {'embedding_size': 171, 'hidden_size': 260, 'optimizer': 'Adam', 'lr': 7.412761369975003e-05, 'scheduler': 'CosineAnnealingWarmRestarts', 'T_0': 7, 'T_mult': 4}. Best is trial 9 with value: 0.8068037111151537.\n"
     ]
    },
    {
     "name": "stdout",
     "output_type": "stream",
     "text": [
      "[Training complete] - Best loss on validation set: 0.43637366592884064 - Best f1 on validation set: 0.7429887155658812\n",
      "Starting trial 40 with parameters:\n",
      "    Embedding size: 156 - Hidden size: 275\n",
      "    Optimizer: Adam (lr: 4.3170197455852316e-05) - Scheduler: CosineAnnealingLR (params: {'T_max': 4})\n",
      "[NeuralNetwork running on cpu]\n"
     ]
    },
    {
     "name": "stderr",
     "output_type": "stream",
     "text": [
      "[CNNnet] training epoch=30 tr-loss=0.21325 tr-acc=92.21% tr-macroF1=90.50% patience=1/5 val-loss=0.42C:\\Users\\Antonio\\Documents\\UniBO\\NLP\\project\\nlp_unibo_2023-24_project\\experiments_antonio\\experiment_4_code.py:672: FutureWarning: You are using `torch.load` with `weights_only=False` (the current default value), which uses the default pickle module implicitly. It is possible to construct malicious pickle data which will execute arbitrary code during unpickling (See https://github.com/pytorch/pytorch/blob/main/SECURITY.md#untrusted-models for more details). In a future release, the default value for `weights_only` will be flipped to `True`. This limits the functions that could be executed during unpickling. Arbitrary objects will no longer be allowed to be loaded via this mode unless they are explicitly allowlisted by the user via `torch.serialization.add_safe_globals`. We recommend you start setting `weights_only=True` for any use case where you don't have full control of the loaded file. Please open an issue on GitHub for any issues related to this experimental feature.\n",
      "  # Final training pass over validation set\n",
      "[CNNnet] training epoch=30 tr-loss=0.21325 tr-acc=92.21% tr-macroF1=90.50% patience=1/5 val-loss=0.42\n"
     ]
    },
    {
     "name": "stdout",
     "output_type": "stream",
     "text": [
      "Training ended by patience exhausted; loading best model parameters from ../checkpoint/relations/classifier_net.dat from epoch 25\n",
      "Performing a final training pass over the validation set...\n"
     ]
    },
    {
     "name": "stderr",
     "output_type": "stream",
     "text": [
      "[I 2024-10-30 20:04:00,520] Trial 40 finished with value: 0.7363465160075329 and parameters: {'embedding_size': 156, 'hidden_size': 275, 'optimizer': 'Adam', 'lr': 4.3170197455852316e-05, 'scheduler': 'CosineAnnealingLR', 'T_max': 4}. Best is trial 9 with value: 0.8068037111151537.\n"
     ]
    },
    {
     "name": "stdout",
     "output_type": "stream",
     "text": [
      "[Training complete] - Best loss on validation set: 0.42039112746715546 - Best f1 on validation set: 0.7363465160075329\n",
      "Starting trial 41 with parameters:\n",
      "    Embedding size: 176 - Hidden size: 267\n",
      "    Optimizer: Adam (lr: 0.0007239994260249259) - Scheduler: CosineAnnealingWarmRestarts (params: {'T_0': 9, 'T_mult': 3})\n",
      "[NeuralNetwork running on cpu]\n"
     ]
    },
    {
     "name": "stderr",
     "output_type": "stream",
     "text": [
      "[CNNnet] training epoch=13 tr-loss=0.01259 tr-acc=99.72% tr-macroF1=99.67% patience=1/5 val-loss=0.77C:\\Users\\Antonio\\Documents\\UniBO\\NLP\\project\\nlp_unibo_2023-24_project\\experiments_antonio\\experiment_4_code.py:672: FutureWarning: You are using `torch.load` with `weights_only=False` (the current default value), which uses the default pickle module implicitly. It is possible to construct malicious pickle data which will execute arbitrary code during unpickling (See https://github.com/pytorch/pytorch/blob/main/SECURITY.md#untrusted-models for more details). In a future release, the default value for `weights_only` will be flipped to `True`. This limits the functions that could be executed during unpickling. Arbitrary objects will no longer be allowed to be loaded via this mode unless they are explicitly allowlisted by the user via `torch.serialization.add_safe_globals`. We recommend you start setting `weights_only=True` for any use case where you don't have full control of the loaded file. Please open an issue on GitHub for any issues related to this experimental feature.\n",
      "  # Final training pass over validation set\n",
      "[CNNnet] training epoch=13 tr-loss=0.01259 tr-acc=99.72% tr-macroF1=99.67% patience=1/5 val-loss=0.77\n"
     ]
    },
    {
     "name": "stdout",
     "output_type": "stream",
     "text": [
      "Training ended by patience exhausted; loading best model parameters from ../checkpoint/relations/classifier_net.dat from epoch 8\n",
      "Performing a final training pass over the validation set...\n"
     ]
    },
    {
     "name": "stderr",
     "output_type": "stream",
     "text": [
      "[I 2024-10-30 20:08:39,475] Trial 41 finished with value: 0.7861556743909686 and parameters: {'embedding_size': 176, 'hidden_size': 267, 'optimizer': 'Adam', 'lr': 0.0007239994260249259, 'scheduler': 'CosineAnnealingWarmRestarts', 'T_0': 9, 'T_mult': 3}. Best is trial 9 with value: 0.8068037111151537.\n"
     ]
    },
    {
     "name": "stdout",
     "output_type": "stream",
     "text": [
      "[Training complete] - Best loss on validation set: 0.5293657332658768 - Best f1 on validation set: 0.7861556743909686\n",
      "Starting trial 42 with parameters:\n",
      "    Embedding size: 181 - Hidden size: 263\n",
      "    Optimizer: Adam (lr: 0.0006989152384656802) - Scheduler: CosineAnnealingWarmRestarts (params: {'T_0': 11, 'T_mult': 3})\n",
      "[NeuralNetwork running on cpu]\n"
     ]
    },
    {
     "name": "stderr",
     "output_type": "stream",
     "text": [
      "[CNNnet] training epoch=7 tr-loss=0.11199 tr-acc=95.74% tr-macroF1=94.91% patience=1/5 val-loss=0.532C:\\Users\\Antonio\\Documents\\UniBO\\NLP\\project\\nlp_unibo_2023-24_project\\experiments_antonio\\experiment_4_code.py:672: FutureWarning: You are using `torch.load` with `weights_only=False` (the current default value), which uses the default pickle module implicitly. It is possible to construct malicious pickle data which will execute arbitrary code during unpickling (See https://github.com/pytorch/pytorch/blob/main/SECURITY.md#untrusted-models for more details). In a future release, the default value for `weights_only` will be flipped to `True`. This limits the functions that could be executed during unpickling. Arbitrary objects will no longer be allowed to be loaded via this mode unless they are explicitly allowlisted by the user via `torch.serialization.add_safe_globals`. We recommend you start setting `weights_only=True` for any use case where you don't have full control of the loaded file. Please open an issue on GitHub for any issues related to this experimental feature.\n",
      "  # Final training pass over validation set\n",
      "[CNNnet] training epoch=7 tr-loss=0.11199 tr-acc=95.74% tr-macroF1=94.91% patience=1/5 val-loss=0.532\n"
     ]
    },
    {
     "name": "stdout",
     "output_type": "stream",
     "text": [
      "Training ended by patience exhausted; loading best model parameters from ../checkpoint/relations/classifier_net.dat from epoch 2\n",
      "Performing a final training pass over the validation set...\n"
     ]
    },
    {
     "name": "stderr",
     "output_type": "stream",
     "text": [
      "[I 2024-10-30 20:11:15,656] Trial 42 finished with value: 0.7827763378424172 and parameters: {'embedding_size': 181, 'hidden_size': 263, 'optimizer': 'Adam', 'lr': 0.0006989152384656802, 'scheduler': 'CosineAnnealingWarmRestarts', 'T_0': 11, 'T_mult': 3}. Best is trial 9 with value: 0.8068037111151537.\n"
     ]
    },
    {
     "name": "stdout",
     "output_type": "stream",
     "text": [
      "[Training complete] - Best loss on validation set: 0.4423588663339615 - Best f1 on validation set: 0.7827763378424172\n",
      "Starting trial 43 with parameters:\n",
      "    Embedding size: 173 - Hidden size: 271\n",
      "    Optimizer: Adam (lr: 0.0009020739014232177) - Scheduler: CosineAnnealingWarmRestarts (params: {'T_0': 8, 'T_mult': 2})\n",
      "[NeuralNetwork running on cpu]\n"
     ]
    },
    {
     "name": "stderr",
     "output_type": "stream",
     "text": [
      "[CNNnet] training epoch=15 tr-loss=0.03839 tr-acc=98.64% tr-macroF1=98.39% patience=1/5 val-loss=0.66C:\\Users\\Antonio\\Documents\\UniBO\\NLP\\project\\nlp_unibo_2023-24_project\\experiments_antonio\\experiment_4_code.py:672: FutureWarning: You are using `torch.load` with `weights_only=False` (the current default value), which uses the default pickle module implicitly. It is possible to construct malicious pickle data which will execute arbitrary code during unpickling (See https://github.com/pytorch/pytorch/blob/main/SECURITY.md#untrusted-models for more details). In a future release, the default value for `weights_only` will be flipped to `True`. This limits the functions that could be executed during unpickling. Arbitrary objects will no longer be allowed to be loaded via this mode unless they are explicitly allowlisted by the user via `torch.serialization.add_safe_globals`. We recommend you start setting `weights_only=True` for any use case where you don't have full control of the loaded file. Please open an issue on GitHub for any issues related to this experimental feature.\n",
      "  # Final training pass over validation set\n",
      "[CNNnet] training epoch=15 tr-loss=0.03839 tr-acc=98.64% tr-macroF1=98.39% patience=1/5 val-loss=0.66\n"
     ]
    },
    {
     "name": "stdout",
     "output_type": "stream",
     "text": [
      "Training ended by patience exhausted; loading best model parameters from ../checkpoint/relations/classifier_net.dat from epoch 10\n",
      "Performing a final training pass over the validation set...\n"
     ]
    },
    {
     "name": "stderr",
     "output_type": "stream",
     "text": [
      "[I 2024-10-30 20:16:35,659] Trial 43 finished with value: 0.7889716840536513 and parameters: {'embedding_size': 173, 'hidden_size': 271, 'optimizer': 'Adam', 'lr': 0.0009020739014232177, 'scheduler': 'CosineAnnealingWarmRestarts', 'T_0': 8, 'T_mult': 2}. Best is trial 9 with value: 0.8068037111151537.\n"
     ]
    },
    {
     "name": "stdout",
     "output_type": "stream",
     "text": [
      "[Training complete] - Best loss on validation set: 0.5319197624921799 - Best f1 on validation set: 0.7889716840536513\n",
      "Starting trial 44 with parameters:\n",
      "    Embedding size: 169 - Hidden size: 269\n",
      "    Optimizer: Adam (lr: 0.0006372736299660221) - Scheduler: CosineAnnealingWarmRestarts (params: {'T_0': 9, 'T_mult': 4})\n",
      "[NeuralNetwork running on cpu]\n"
     ]
    },
    {
     "name": "stderr",
     "output_type": "stream",
     "text": [
      "[CNNnet] training epoch=11 tr-loss=0.03038 tr-acc=99.12% tr-macroF1=98.95% patience=1/5 val-loss=0.66C:\\Users\\Antonio\\Documents\\UniBO\\NLP\\project\\nlp_unibo_2023-24_project\\experiments_antonio\\experiment_4_code.py:672: FutureWarning: You are using `torch.load` with `weights_only=False` (the current default value), which uses the default pickle module implicitly. It is possible to construct malicious pickle data which will execute arbitrary code during unpickling (See https://github.com/pytorch/pytorch/blob/main/SECURITY.md#untrusted-models for more details). In a future release, the default value for `weights_only` will be flipped to `True`. This limits the functions that could be executed during unpickling. Arbitrary objects will no longer be allowed to be loaded via this mode unless they are explicitly allowlisted by the user via `torch.serialization.add_safe_globals`. We recommend you start setting `weights_only=True` for any use case where you don't have full control of the loaded file. Please open an issue on GitHub for any issues related to this experimental feature.\n",
      "  # Final training pass over validation set\n",
      "[CNNnet] training epoch=11 tr-loss=0.03038 tr-acc=99.12% tr-macroF1=98.95% patience=1/5 val-loss=0.66\n"
     ]
    },
    {
     "name": "stdout",
     "output_type": "stream",
     "text": [
      "Training ended by patience exhausted; loading best model parameters from ../checkpoint/relations/classifier_net.dat from epoch 6\n",
      "Performing a final training pass over the validation set...\n"
     ]
    },
    {
     "name": "stderr",
     "output_type": "stream",
     "text": [
      "[I 2024-10-30 20:20:25,242] Trial 44 finished with value: 0.7913838650680756 and parameters: {'embedding_size': 169, 'hidden_size': 269, 'optimizer': 'Adam', 'lr': 0.0006372736299660221, 'scheduler': 'CosineAnnealingWarmRestarts', 'T_0': 9, 'T_mult': 4}. Best is trial 9 with value: 0.8068037111151537.\n"
     ]
    },
    {
     "name": "stdout",
     "output_type": "stream",
     "text": [
      "[Training complete] - Best loss on validation set: 0.43063829839229584 - Best f1 on validation set: 0.7913838650680756\n",
      "Starting trial 45 with parameters:\n",
      "    Embedding size: 161 - Hidden size: 265\n",
      "    Optimizer: Adam (lr: 0.00010881014372510626) - Scheduler: CosineAnnealingWarmRestarts (params: {'T_0': 11, 'T_mult': 2})\n",
      "[NeuralNetwork running on cpu]\n"
     ]
    },
    {
     "name": "stderr",
     "output_type": "stream",
     "text": [
      "[CNNnet] training epoch=18 tr-loss=0.10888 tr-acc=96.60% tr-macroF1=95.94% patience=1/5 val-loss=0.43C:\\Users\\Antonio\\Documents\\UniBO\\NLP\\project\\nlp_unibo_2023-24_project\\experiments_antonio\\experiment_4_code.py:672: FutureWarning: You are using `torch.load` with `weights_only=False` (the current default value), which uses the default pickle module implicitly. It is possible to construct malicious pickle data which will execute arbitrary code during unpickling (See https://github.com/pytorch/pytorch/blob/main/SECURITY.md#untrusted-models for more details). In a future release, the default value for `weights_only` will be flipped to `True`. This limits the functions that could be executed during unpickling. Arbitrary objects will no longer be allowed to be loaded via this mode unless they are explicitly allowlisted by the user via `torch.serialization.add_safe_globals`. We recommend you start setting `weights_only=True` for any use case where you don't have full control of the loaded file. Please open an issue on GitHub for any issues related to this experimental feature.\n",
      "  # Final training pass over validation set\n",
      "[CNNnet] training epoch=18 tr-loss=0.10888 tr-acc=96.60% tr-macroF1=95.94% patience=1/5 val-loss=0.43\n"
     ]
    },
    {
     "name": "stdout",
     "output_type": "stream",
     "text": [
      "Training ended by patience exhausted; loading best model parameters from ../checkpoint/relations/classifier_net.dat from epoch 13\n",
      "Performing a final training pass over the validation set...\n"
     ]
    },
    {
     "name": "stderr",
     "output_type": "stream",
     "text": [
      "[I 2024-10-30 20:26:25,885] Trial 45 finished with value: 0.7551585014409221 and parameters: {'embedding_size': 161, 'hidden_size': 265, 'optimizer': 'Adam', 'lr': 0.00010881014372510626, 'scheduler': 'CosineAnnealingWarmRestarts', 'T_0': 11, 'T_mult': 2}. Best is trial 9 with value: 0.8068037111151537.\n"
     ]
    },
    {
     "name": "stdout",
     "output_type": "stream",
     "text": [
      "[Training complete] - Best loss on validation set: 0.40219658613204956 - Best f1 on validation set: 0.7551585014409221\n",
      "Starting trial 46 with parameters:\n",
      "    Embedding size: 153 - Hidden size: 275\n",
      "    Optimizer: Adam (lr: 0.0003754813072579791) - Scheduler: CosineAnnealingWarmRestarts (params: {'T_0': 5, 'T_mult': 5})\n",
      "[NeuralNetwork running on cpu]\n"
     ]
    },
    {
     "name": "stderr",
     "output_type": "stream",
     "text": [
      "[CNNnet] training epoch=8 tr-loss=0.05993 tr-acc=98.21% tr-macroF1=97.87% patience=1/5 val-loss=0.478C:\\Users\\Antonio\\Documents\\UniBO\\NLP\\project\\nlp_unibo_2023-24_project\\experiments_antonio\\experiment_4_code.py:672: FutureWarning: You are using `torch.load` with `weights_only=False` (the current default value), which uses the default pickle module implicitly. It is possible to construct malicious pickle data which will execute arbitrary code during unpickling (See https://github.com/pytorch/pytorch/blob/main/SECURITY.md#untrusted-models for more details). In a future release, the default value for `weights_only` will be flipped to `True`. This limits the functions that could be executed during unpickling. Arbitrary objects will no longer be allowed to be loaded via this mode unless they are explicitly allowlisted by the user via `torch.serialization.add_safe_globals`. We recommend you start setting `weights_only=True` for any use case where you don't have full control of the loaded file. Please open an issue on GitHub for any issues related to this experimental feature.\n",
      "  # Final training pass over validation set\n",
      "[CNNnet] training epoch=8 tr-loss=0.05993 tr-acc=98.21% tr-macroF1=97.87% patience=1/5 val-loss=0.478\n"
     ]
    },
    {
     "name": "stdout",
     "output_type": "stream",
     "text": [
      "Training ended by patience exhausted; loading best model parameters from ../checkpoint/relations/classifier_net.dat from epoch 3\n",
      "Performing a final training pass over the validation set...\n"
     ]
    },
    {
     "name": "stderr",
     "output_type": "stream",
     "text": [
      "[I 2024-10-30 20:29:06,233] Trial 46 finished with value: 0.7854237981012078 and parameters: {'embedding_size': 153, 'hidden_size': 275, 'optimizer': 'Adam', 'lr': 0.0003754813072579791, 'scheduler': 'CosineAnnealingWarmRestarts', 'T_0': 5, 'T_mult': 5}. Best is trial 9 with value: 0.8068037111151537.\n"
     ]
    },
    {
     "name": "stdout",
     "output_type": "stream",
     "text": [
      "[Training complete] - Best loss on validation set: 0.42369110882282257 - Best f1 on validation set: 0.7854237981012078\n",
      "Starting trial 47 with parameters:\n",
      "    Embedding size: 195 - Hidden size: 278\n",
      "    Optimizer: Adam (lr: 0.0005161449102180434) - Scheduler: CosineAnnealingLR (params: {'T_max': 11})\n",
      "[NeuralNetwork running on cpu]\n"
     ]
    },
    {
     "name": "stderr",
     "output_type": "stream",
     "text": [
      "[CNNnet] training epoch=14 tr-loss=0.03197 tr-acc=99.20% tr-macroF1=99.05% patience=1/5 val-loss=0.69C:\\Users\\Antonio\\Documents\\UniBO\\NLP\\project\\nlp_unibo_2023-24_project\\experiments_antonio\\experiment_4_code.py:672: FutureWarning: You are using `torch.load` with `weights_only=False` (the current default value), which uses the default pickle module implicitly. It is possible to construct malicious pickle data which will execute arbitrary code during unpickling (See https://github.com/pytorch/pytorch/blob/main/SECURITY.md#untrusted-models for more details). In a future release, the default value for `weights_only` will be flipped to `True`. This limits the functions that could be executed during unpickling. Arbitrary objects will no longer be allowed to be loaded via this mode unless they are explicitly allowlisted by the user via `torch.serialization.add_safe_globals`. We recommend you start setting `weights_only=True` for any use case where you don't have full control of the loaded file. Please open an issue on GitHub for any issues related to this experimental feature.\n",
      "  # Final training pass over validation set\n",
      "[CNNnet] training epoch=14 tr-loss=0.03197 tr-acc=99.20% tr-macroF1=99.05% patience=1/5 val-loss=0.69\n"
     ]
    },
    {
     "name": "stdout",
     "output_type": "stream",
     "text": [
      "Training ended by patience exhausted; loading best model parameters from ../checkpoint/relations/classifier_net.dat from epoch 9\n",
      "Performing a final training pass over the validation set...\n"
     ]
    },
    {
     "name": "stderr",
     "output_type": "stream",
     "text": [
      "[I 2024-10-30 20:34:47,091] Trial 47 finished with value: 0.8110541940329175 and parameters: {'embedding_size': 195, 'hidden_size': 278, 'optimizer': 'Adam', 'lr': 0.0005161449102180434, 'scheduler': 'CosineAnnealingLR', 'T_max': 11}. Best is trial 47 with value: 0.8110541940329175.\n"
     ]
    },
    {
     "name": "stdout",
     "output_type": "stream",
     "text": [
      "[Training complete] - Best loss on validation set: 0.47745291888713837 - Best f1 on validation set: 0.8110541940329175\n",
      "Starting trial 48 with parameters:\n",
      "    Embedding size: 186 - Hidden size: 288\n",
      "    Optimizer: Adam (lr: 0.0002590951849208455) - Scheduler: CosineAnnealingLR (params: {'T_max': 11})\n",
      "[NeuralNetwork running on cpu]\n"
     ]
    },
    {
     "name": "stderr",
     "output_type": "stream",
     "text": [
      "[CNNnet] training epoch=14 tr-loss=0.04482 tr-acc=98.67% tr-macroF1=98.41% patience=1/5 val-loss=0.54C:\\Users\\Antonio\\Documents\\UniBO\\NLP\\project\\nlp_unibo_2023-24_project\\experiments_antonio\\experiment_4_code.py:672: FutureWarning: You are using `torch.load` with `weights_only=False` (the current default value), which uses the default pickle module implicitly. It is possible to construct malicious pickle data which will execute arbitrary code during unpickling (See https://github.com/pytorch/pytorch/blob/main/SECURITY.md#untrusted-models for more details). In a future release, the default value for `weights_only` will be flipped to `True`. This limits the functions that could be executed during unpickling. Arbitrary objects will no longer be allowed to be loaded via this mode unless they are explicitly allowlisted by the user via `torch.serialization.add_safe_globals`. We recommend you start setting `weights_only=True` for any use case where you don't have full control of the loaded file. Please open an issue on GitHub for any issues related to this experimental feature.\n",
      "  # Final training pass over validation set\n",
      "[CNNnet] training epoch=14 tr-loss=0.04482 tr-acc=98.67% tr-macroF1=98.41% patience=1/5 val-loss=0.54\n"
     ]
    },
    {
     "name": "stdout",
     "output_type": "stream",
     "text": [
      "Training ended by patience exhausted; loading best model parameters from ../checkpoint/relations/classifier_net.dat from epoch 9\n",
      "Performing a final training pass over the validation set...\n"
     ]
    },
    {
     "name": "stderr",
     "output_type": "stream",
     "text": [
      "[I 2024-10-30 20:40:13,149] Trial 48 finished with value: 0.786531279178338 and parameters: {'embedding_size': 186, 'hidden_size': 288, 'optimizer': 'Adam', 'lr': 0.0002590951849208455, 'scheduler': 'CosineAnnealingLR', 'T_max': 11}. Best is trial 47 with value: 0.8110541940329175.\n"
     ]
    },
    {
     "name": "stdout",
     "output_type": "stream",
     "text": [
      "[Training complete] - Best loss on validation set: 0.40929220616817474 - Best f1 on validation set: 0.786531279178338\n",
      "Starting trial 49 with parameters:\n",
      "    Embedding size: 195 - Hidden size: 278\n",
      "    Optimizer: Adam (lr: 0.000523688821899043) - Scheduler: CosineAnnealingLR (params: {'T_max': 9})\n",
      "[NeuralNetwork running on cpu]\n"
     ]
    },
    {
     "name": "stderr",
     "output_type": "stream",
     "text": [
      "[CNNnet] training epoch=8 tr-loss=0.05311 tr-acc=98.11% tr-macroF1=97.74% patience=1/5 val-loss=0.487C:\\Users\\Antonio\\Documents\\UniBO\\NLP\\project\\nlp_unibo_2023-24_project\\experiments_antonio\\experiment_4_code.py:672: FutureWarning: You are using `torch.load` with `weights_only=False` (the current default value), which uses the default pickle module implicitly. It is possible to construct malicious pickle data which will execute arbitrary code during unpickling (See https://github.com/pytorch/pytorch/blob/main/SECURITY.md#untrusted-models for more details). In a future release, the default value for `weights_only` will be flipped to `True`. This limits the functions that could be executed during unpickling. Arbitrary objects will no longer be allowed to be loaded via this mode unless they are explicitly allowlisted by the user via `torch.serialization.add_safe_globals`. We recommend you start setting `weights_only=True` for any use case where you don't have full control of the loaded file. Please open an issue on GitHub for any issues related to this experimental feature.\n",
      "  # Final training pass over validation set\n",
      "[CNNnet] training epoch=8 tr-loss=0.05311 tr-acc=98.11% tr-macroF1=97.74% patience=1/5 val-loss=0.487\n"
     ]
    },
    {
     "name": "stdout",
     "output_type": "stream",
     "text": [
      "Training ended by patience exhausted; loading best model parameters from ../checkpoint/relations/classifier_net.dat from epoch 3\n",
      "Performing a final training pass over the validation set...\n"
     ]
    },
    {
     "name": "stderr",
     "output_type": "stream",
     "text": [
      "[I 2024-10-30 20:43:29,176] Trial 49 finished with value: 0.7943555065857224 and parameters: {'embedding_size': 195, 'hidden_size': 278, 'optimizer': 'Adam', 'lr': 0.000523688821899043, 'scheduler': 'CosineAnnealingLR', 'T_max': 9}. Best is trial 47 with value: 0.8110541940329175.\n"
     ]
    },
    {
     "name": "stdout",
     "output_type": "stream",
     "text": [
      "[Training complete] - Best loss on validation set: 0.3936632573604584 - Best f1 on validation set: 0.7943555065857224\n",
      "Best trial:\n",
      "  Macro F1 Score: 0.8110541940329175\n",
      "  Params:\n",
      "    embedding_size: 195\n",
      "    hidden_size: 278\n",
      "    optimizer: Adam\n",
      "    lr: 0.0005161449102180434\n",
      "    scheduler: CosineAnnealingLR\n",
      "    T_max: 11\n"
     ]
    }
   ],
   "source": [
    "study = optuna.create_study(direction=\"maximize\")\n",
    "study.optimize(lambda trial: objective(trial, abs_dataset), n_trials=50)\n",
    "\n",
    "print(\"Best trial:\")\n",
    "trial = study.best_trial\n",
    "print(f\"  Macro F1 Score: {trial.value}\")\n",
    "print(\"  Params:\")\n",
    "for key, value in trial.params.items():\n",
    "    print(f\"    {key}: {value}\")"
   ]
  },
  {
   "cell_type": "markdown",
   "id": "9e1203e0-5eeb-4a36-b123-ab7402a528bd",
   "metadata": {},
   "source": [
    "We can now train and test using the obtained hyperparameters."
   ]
  },
  {
   "cell_type": "code",
   "execution_count": 14,
   "id": "fb9680a2-8b2f-41e7-8fd3-139ee4e96e76",
   "metadata": {},
   "outputs": [
    {
     "name": "stdout",
     "output_type": "stream",
     "text": [
      "[NeuralNetwork running on cpu]\n"
     ]
    },
    {
     "name": "stderr",
     "output_type": "stream",
     "text": [
      "[CNNnet] training epoch=19 tr-loss=0.02235 tr-acc=99.31% tr-macroF1=99.18% patience=1/10 val-loss=0.6C:\\Users\\Antonio\\Documents\\UniBO\\NLP\\project\\nlp_unibo_2023-24_project\\experiments_antonio\\experiment_4_code.py:671: FutureWarning: You are using `torch.load` with `weights_only=False` (the current default value), which uses the default pickle module implicitly. It is possible to construct malicious pickle data which will execute arbitrary code during unpickling (See https://github.com/pytorch/pytorch/blob/main/SECURITY.md#untrusted-models for more details). In a future release, the default value for `weights_only` will be flipped to `True`. This limits the functions that could be executed during unpickling. Arbitrary objects will no longer be allowed to be loaded via this mode unless they are explicitly allowlisted by the user via `torch.serialization.add_safe_globals`. We recommend you start setting `weights_only=True` for any use case where you don't have full control of the loaded file. Please open an issue on GitHub for any issues related to this experimental feature.\n",
      "  self.net.load_state_dict(torch.load(self.checkpointpath))\n",
      "[CNNnet] training epoch=19 tr-loss=0.02235 tr-acc=99.31% tr-macroF1=99.18% patience=1/10 val-loss=0.6\n"
     ]
    },
    {
     "name": "stdout",
     "output_type": "stream",
     "text": [
      "Training ended by patience exhausted; loading best model parameters from ../checkpoints/relations/classifier_net.dat from epoch 9\n",
      "Performing a final training pass over the validation set...\n",
      "[Training complete] - Best loss on validation set: 0.47745291888713837 - Best f1 on validation set: 0.8110541940329175\n"
     ]
    },
    {
     "data": {
      "text/plain": [
       "<experiment_4_code.ScheduledNeuralClassifierTrainer at 0x190169ab5c0>"
      ]
     },
     "execution_count": 14,
     "metadata": {},
     "output_type": "execute_result"
    }
   ],
   "source": [
    "set_seed(42)\n",
    "\n",
    "embedding_size = 195\n",
    "hidden_size = 278   \n",
    "lr = 0.0005161449102180434\n",
    "\n",
    "cnn_module = CNNnet(\n",
    "    abs_dataset.vocabulary_size,\n",
    "    abs_dataset.training.n_classes,\n",
    "    embedding_size=embedding_size,\n",
    "    hidden_size=hidden_size\n",
    ")\n",
    "\n",
    "optimizer = Adam(cnn_module.parameters(), lr=lr)\n",
    "scheduler = CosineAnnealingLR(optimizer, T_max=11)\n",
    "\n",
    "cnn_classifier = ScheduledNeuralClassifierTrainer(\n",
    "    cnn_module,\n",
    "    lr_scheduler=scheduler,\n",
    "    optim = optimizer,\n",
    "    device='cpu',\n",
    "    checkpointpath='../checkpoints/relations/classifier_net.dat',\n",
    "    padding_length=107,\n",
    "    patience=10\n",
    ")\n",
    "\n",
    "cnn_classifier.fit(*abs_dataset.training.Xy, *abs_dataset.val.Xy)"
   ]
  },
  {
   "cell_type": "code",
   "execution_count": 15,
   "id": "cb1a8898-7f41-4965-8b99-8042e1312f48",
   "metadata": {},
   "outputs": [
    {
     "name": "stdout",
     "output_type": "stream",
     "text": [
      "- Train set:\n",
      "\tF1: 0.9992308085066453\n",
      "\tAccuracy: 0.9993541442411195\n",
      "- Glaucoma test set:\n",
      "\tF1: 0.731208145908966\n",
      "\tAccuracy: 0.764751552795031\n",
      "- Neoplasm test set:\n",
      "\tF1: 0.7878662886196062\n",
      "\tAccuracy: 0.8205705705705706\n",
      "- Mixed test set:\n",
      "\tF1: 0.7414842889520707\n",
      "\tAccuracy: 0.7855960264900662\n"
     ]
    }
   ],
   "source": [
    "f1_train = 1-qp.error.f1e(abs_dataset.training.labels, cnn_classifier.predict(abs_dataset.training.instances))\n",
    "accuracy_train = 1-qp.error.acce(abs_dataset.training.labels, cnn_classifier.predict(abs_dataset.training.instances))\n",
    "print('- Train set:')\n",
    "print(f'\\tF1: {f1_train}')    \n",
    "print(f'\\tAccuracy: {accuracy_train}')    \n",
    "\n",
    "f1_test_glaucoma = 1-qp.error.f1e(glaucoma_collection.labels, cnn_classifier.predict(glaucoma_collection.instances))\n",
    "accuracy_test_glaucoma = 1-qp.error.acce(glaucoma_collection.labels, cnn_classifier.predict(glaucoma_collection.instances))\n",
    "\n",
    "print('- Glaucoma test set:')\n",
    "print(f'\\tF1: {f1_test_glaucoma}')    \n",
    "print(f'\\tAccuracy: {accuracy_test_glaucoma}')    \n",
    "\n",
    "f1_test_neoplasm = 1-qp.error.f1e(neoplasm_collection.labels, cnn_classifier.predict(neoplasm_collection.instances))\n",
    "accuracy_test_neoplasm = 1-qp.error.acce(neoplasm_collection.labels, cnn_classifier.predict(neoplasm_collection.instances))\n",
    "\n",
    "print('- Neoplasm test set:')\n",
    "print(f'\\tF1: {f1_test_neoplasm}')    \n",
    "print(f'\\tAccuracy: {accuracy_test_neoplasm}')\n",
    "\n",
    "f1_test_mixed = 1-qp.error.f1e(mixed_collection.labels, cnn_classifier.predict(mixed_collection.instances))\n",
    "accuracy_test_mixed = 1-qp.error.acce(mixed_collection.labels, cnn_classifier.predict(mixed_collection.instances))\n",
    "\n",
    "print('- Mixed test set:')\n",
    "print(f'\\tF1: {f1_test_mixed}')    \n",
    "print(f'\\tAccuracy: {accuracy_test_mixed}')"
   ]
  },
  {
   "cell_type": "code",
   "execution_count": 16,
   "id": "0c873988-2b70-4de9-8af6-2863d0e55bc2",
   "metadata": {},
   "outputs": [
    {
     "name": "stdout",
     "output_type": "stream",
     "text": [
      "File 9643663 - Relations: [0] - Text:\n",
      " To evaluate the efficacy and tolerability of 'Casodex' monotherapy (150 mg daily) for metastatic and locally advanced prostate cancer. A total of 1,453 patients with either confirmed metastatic disease (M1), or T3/T4 non-metastatic disease with elevated prostate-specific antigen (M0) were recruited into one of two identical, multicentre, randomised studies to compare 'Casodex' 150 mg/day with castration. The protocols allowed for combined analysis. At a median follow-up period of approximately 100 weeks for both studies, 'Casodex' 150 mg was found to be less effective than castration in patients with metastatic disease (M1) at entry (hazard ratio of 1.30 for time to death) with a difference in median survival of 6 weeks. In symptomatic M1 patients, 'Casodex' was associated with a statistically significant improvement in subjective response (70%) compared with castration (58%). Analysis of a validated quality-of-life questionnaire proved an advantage for 'Casodex' in sexual interest and physical capacity. 'Casodex' had a substantially lower incidence of hot flushes compared to castration (6-13% compared with 39-44%) and the most commonly reported adverse events were those expected for a potent antiandrogen. However, in patients with M0 disease at entry, the data are still immature with only 13% of M0 patients having died. An initial analysis of this immature data has suggested that the results in these patients may be different to those obtained in patients with M1 disease. A further survival analysis in patients with M0 disease is therefore planned when the data are more mature. 'Casodex' 150 mg is less effective than castration in patients with M1 disease. However, 'Casodex' has shown a benefit in terms of quality of life and subjective response when compared to castration and has an acceptable tolerability profile. Thus 'Casodex' 150 mg monotherapy is an option for patients with M1 prostate cancer for whom surgical or medical castration is not indicated or is not acceptable. \n",
      "\n",
      "\n",
      "**************************************************\n",
      "Relation Analysis\n"
     ]
    },
    {
     "name": "stderr",
     "output_type": "stream",
     "text": [
      "indexing: 100%|███████████████████████████████████████████████████| 13/13 [00:00<00:00, 13004.04it/s]"
     ]
    },
    {
     "name": "stdout",
     "output_type": "stream",
     "text": [
      "\tClassification:\n",
      "\t\t# Ground truth relations: (0, 0, 0, 1, 1, 1, 1, 0, 0, 0, 0, 1, 0)\n",
      "\t\t# Predicted relations labels: [0 0 0 0 1 0 1 0 0 0 0 0 0]\n"
     ]
    },
    {
     "name": "stderr",
     "output_type": "stream",
     "text": [
      "\n"
     ]
    }
   ],
   "source": [
    "infer(test_set, indexer, comp_quantifier=None, comp_classifier=None, rel_quantifier=None, rel_classifier=cnn_classifier, filename=None, use_tokenizer=True)"
   ]
  },
  {
   "cell_type": "markdown",
   "id": "32bc37da-6239-4833-9c63-03cac51fdb78",
   "metadata": {},
   "source": [
    "We obtain worse results if compared with the components model: this is expected, as the number of positive labels is now a subgroup of the positive labels used to train the previous model, leading to an imbalanced dataset and a more difficult task.\n",
    "\n",
    "### 3. QuaNet \n",
    "We will include the description of `QuaNet` again, as it may prove useful. `QuaNet` observes the classification predictions to learn higher-order *quantification embeddings*, which are then refined by incorporating quantification predictions of simple classify-and-count-like methods.\n",
    "\n",
    "![architecture](./images/quanet_architecture.png)\n",
    "\n",
    "The QuaNet architecture (see Figure 1) consists of two main components: a **recurrent component** and a **fully connected component**.\n",
    "\n",
    "#### 3.1 Recurrent Component: Bidirectional LSTM\n",
    "- The core of the model is a **Bidirectional LSTM** (Long Short-Term Memory), a type of recurrent neural network. \n",
    "- The LSTM receives as input a **list of pairs** $⟨Pr(c|x), \\vec{x}⟩$, where:\n",
    "  - $Pr(c|x)$ is the probability that a classifier $h$ assigns class $c$ to document $x$.\n",
    "  - $\\vec{x}$ is the **document embedding**, a vector representing the document's content.\n",
    "- The list is **sorted by the value of $Pr(c|x)$**, meaning the documents are arranged from least to most likely to belong to class $c$.\n",
    "  \n",
    "The **intuition** behind this approach is that the LSTM will \"learn to count\" positive and negative examples. By observing the ordered sequence of probabilities, the LSTM should learn to recognize the point where the documents switch from negative to positive examples. The document embedding $\\vec{x}$ helps the LSTM assign different importance to each document when making its prediction.\n",
    "\n",
    "The output of the LSTM is called a **quantification embedding**—a dense vector representing the information about the quantification task learned from the input data.\n",
    "\n",
    "#### 3.2 Fully Connected Component\n",
    "- The vector returned by the LSTM is combined with additional information, specifically **quantification-related statistics**:\n",
    "  - $\\hat{p}_c^{CC}(D)$, $\\hat{p}_c^{ACC}(D)$, $\\hat{p}_c^{PCC}(D)$, and $\\hat{p}_c^{PACC}(D)$, which are quantification predictions from different methods.\n",
    "  - $tpr_b$, $fpr_b$, $tpr_s$, and $fpr_s$, aggregate statistics related to true positive and false positive rates, which are easy to compute from the classifier $h$ using a validation set.\n",
    "\n",
    "This combined vector then passes through the second part of the architecture, which is made up of **fully connected layers** with **ReLU activations**. These layers adjust the quantification embedding using the additional statistics from the classifier to improve the accuracy of the quantification.\n",
    "\n",
    "The final output is a prediction $\\hat{p}_c^{QuaNet}(c|D)$, which represents the probability of class $c$ for the dataset $D$, produced by a **softmax layer**.\n",
    "\n",
    "QuaNet could use quantification predictions from many methods, but it focuses on those that are **computationally efficient** (like CC, ACC, PCC, and PACC). This ensures that the process remains fast while still providing sufficient information for accurate predictions.\n",
    "\n",
    "### Details\n",
    "\n",
    "| Layer | Type | Dimensions | Activation | Dropout |\n",
    "|---|---|---|---|---|\n",
    "| Input | LSTM | 128 | N/A | N/A |\n",
    "| Dense 1 | Dense | 1024 | ReLU | 0.5 |\n",
    "| Dense 2 | Dense | 512 | ReLU | 0.5 |\n",
    "| Output | Dense | 2 | Softmax | N/A |\n",
    "\n",
    "- The LSTM has **64 hidden dimensions**, and since it’s bidirectional, the final LSTM output has **128 dimensions**.\n",
    "- This LSTM output is concatenated with the **8 quantification statistics** (giving a total of 136 dimensions), which is then fed into:\n",
    "  - **Two dense layers** with **1,024** and **512 dimensions**, each using **ReLU activation** and **0.5 dropout**.\n",
    "  - Finally, the output is passed through a **softmax layer** of size 2 to make the final class prediction.\n"
   ]
  },
  {
   "cell_type": "code",
   "execution_count": 17,
   "id": "bc527bb1-dec8-4f00-b777-f3d407f93165",
   "metadata": {},
   "outputs": [
    {
     "name": "stdout",
     "output_type": "stream",
     "text": [
      "QuaNetModule(\n",
      "  (lstm): LSTM(102, 64, batch_first=True, bidirectional=True)\n",
      "  (dropout): Dropout(p=0, inplace=False)\n",
      "  (ff_layers): ModuleList(\n",
      "    (0): Linear(in_features=136, out_features=1024, bias=True)\n",
      "    (1): Linear(in_features=1024, out_features=512, bias=True)\n",
      "  )\n",
      "  (output): Linear(in_features=512, out_features=2, bias=True)\n",
      ")\n"
     ]
    },
    {
     "name": "stderr",
     "output_type": "stream",
     "text": [
      "  0%|                                                                        | 0/500 [00:00<?, ?it/s]C:\\Users\\Antonio\\anaconda3\\envs\\NLP\\Lib\\site-packages\\quapy\\method\\_neural.py:233: UserWarning: Creating a tensor from a list of numpy.ndarrays is extremely slow. Please consider converting the list to a single numpy.ndarray with numpy.array() before converting to a tensor. (Triggered internally at C:\\actions-runner\\_work\\pytorch\\pytorch\\builder\\windows\\pytorch\\torch\\csrc\\utils\\tensor_new.cpp:281.)\n",
      "  ptrue = torch.as_tensor([sample_data.prevalence()], dtype=torch.float, device=self.device)\n",
      "[QuaNet] epoch=1 [it=499/500]\ttr-mseloss=0.00379 tr-maeloss=0.03395\tval-mseloss=-1.00000 val-maeloss=\n",
      "100%|██████████████████████████████████████████████████████████████| 100/100 [00:02<00:00, 48.47it/s]\n",
      "[QuaNet] epoch=2 [it=499/500]\ttr-mseloss=0.00036 tr-maeloss=0.01412\tval-mseloss=0.00048 val-maeloss=0\n",
      "100%|██████████████████████████████████████████████████████████████| 100/100 [00:02<00:00, 49.54it/s]\n",
      "[QuaNet] epoch=3 [it=499/500]\ttr-mseloss=0.00056 tr-maeloss=0.01646\tval-mseloss=0.00023 val-maeloss=0\n",
      "100%|██████████████████████████████████████████████████████████████| 100/100 [00:01<00:00, 50.24it/s]\n",
      "[QuaNet] epoch=4 [it=499/500]\ttr-mseloss=0.00022 tr-maeloss=0.00943\tval-mseloss=0.00016 val-maeloss=0\n",
      "100%|██████████████████████████████████████████████████████████████| 100/100 [00:01<00:00, 50.67it/s]\n",
      "[QuaNet] epoch=5 [it=499/500]\ttr-mseloss=0.00043 tr-maeloss=0.01328\tval-mseloss=0.00020 val-maeloss=0\n",
      "100%|██████████████████████████████████████████████████████████████| 100/100 [00:02<00:00, 46.38it/s]\n",
      "[QuaNet] epoch=6 [it=499/500]\ttr-mseloss=0.00039 tr-maeloss=0.01327\tval-mseloss=0.00057 val-maeloss=0\n",
      "100%|██████████████████████████████████████████████████████████████| 100/100 [00:02<00:00, 48.54it/s]\n",
      "[QuaNet] epoch=7 [it=499/500]\ttr-mseloss=0.00048 tr-maeloss=0.01257\tval-mseloss=0.00020 val-maeloss=0\n",
      "100%|██████████████████████████████████████████████████████████████| 100/100 [00:01<00:00, 50.57it/s]\n",
      "[QuaNet] epoch=8 [it=499/500]\ttr-mseloss=0.00037 tr-maeloss=0.01158\tval-mseloss=0.00008 val-maeloss=0\n",
      "100%|██████████████████████████████████████████████████████████████| 100/100 [00:02<00:00, 48.65it/s]\n",
      "[QuaNet] epoch=9 [it=499/500]\ttr-mseloss=0.00030 tr-maeloss=0.01088\tval-mseloss=0.00002 val-maeloss=0\n",
      "100%|██████████████████████████████████████████████████████████████| 100/100 [00:02<00:00, 48.52it/s]\n",
      "[QuaNet] epoch=10 [it=499/500]\ttr-mseloss=0.00020 tr-maeloss=0.00840\tval-mseloss=0.00003 val-maeloss=\n",
      "100%|██████████████████████████████████████████████████████████████| 100/100 [00:02<00:00, 45.12it/s]\n",
      "[QuaNet] epoch=11 [it=499/500]\ttr-mseloss=0.00017 tr-maeloss=0.00784\tval-mseloss=0.00004 val-maeloss=\n",
      "100%|██████████████████████████████████████████████████████████████| 100/100 [00:02<00:00, 43.88it/s]\n",
      "[QuaNet] epoch=12 [it=499/500]\ttr-mseloss=0.00022 tr-maeloss=0.00880\tval-mseloss=0.00003 val-maeloss=\n",
      "100%|██████████████████████████████████████████████████████████████| 100/100 [00:01<00:00, 50.31it/s]\n",
      "[QuaNet] epoch=13 [it=499/500]\ttr-mseloss=0.00027 tr-maeloss=0.01008\tval-mseloss=0.00013 val-maeloss=\n",
      "100%|██████████████████████████████████████████████████████████████| 100/100 [00:01<00:00, 51.39it/s]\n",
      "[QuaNet] epoch=14 [it=499/500]\ttr-mseloss=0.00017 tr-maeloss=0.00799\tval-mseloss=0.00040 val-maeloss=\n",
      "100%|██████████████████████████████████████████████████████████████| 100/100 [00:01<00:00, 51.05it/s]\n",
      "[QuaNet] epoch=15 [it=499/500]\ttr-mseloss=0.00031 tr-maeloss=0.01018\tval-mseloss=0.00012 val-maeloss=\n",
      "100%|██████████████████████████████████████████████████████████████| 100/100 [00:01<00:00, 50.84it/s]\n",
      "[QuaNet] epoch=16 [it=499/500]\ttr-mseloss=0.00011 tr-maeloss=0.00573\tval-mseloss=0.00022 val-maeloss=\n",
      "100%|██████████████████████████████████████████████████████████████| 100/100 [00:02<00:00, 42.15it/s]\n",
      "[QuaNet] epoch=17 [it=499/500]\ttr-mseloss=0.00025 tr-maeloss=0.00891\tval-mseloss=0.00004 val-maeloss=\n",
      "100%|██████████████████████████████████████████████████████████████| 100/100 [00:02<00:00, 49.30it/s]\n",
      "[QuaNet] epoch=18 [it=499/500]\ttr-mseloss=0.00033 tr-maeloss=0.01083\tval-mseloss=0.00052 val-maeloss=\n",
      "100%|██████████████████████████████████████████████████████████████| 100/100 [00:02<00:00, 47.98it/s]\n",
      "[QuaNet] epoch=19 [it=499/500]\ttr-mseloss=0.00006 tr-maeloss=0.00421\tval-mseloss=0.00002 val-maeloss=\n",
      "100%|██████████████████████████████████████████████████████████████| 100/100 [00:02<00:00, 47.57it/s]\n",
      "[QuaNet] epoch=20 [it=499/500]\ttr-mseloss=0.00032 tr-maeloss=0.01006\tval-mseloss=0.00001 val-maeloss=\n",
      "100%|██████████████████████████████████████████████████████████████| 100/100 [00:02<00:00, 49.33it/s]\n",
      "[QuaNet] epoch=21 [it=499/500]\ttr-mseloss=0.00034 tr-maeloss=0.01032\tval-mseloss=0.00002 val-maeloss=\n",
      "100%|██████████████████████████████████████████████████████████████| 100/100 [00:02<00:00, 49.01it/s]\n",
      "[QuaNet] epoch=22 [it=499/500]\ttr-mseloss=0.00014 tr-maeloss=0.00648\tval-mseloss=0.00015 val-maeloss=\n",
      "100%|██████████████████████████████████████████████████████████████| 100/100 [00:01<00:00, 50.94it/s]\n",
      "[QuaNet] epoch=23 [it=499/500]\ttr-mseloss=0.00018 tr-maeloss=0.00766\tval-mseloss=0.00115 val-maeloss=\n",
      "100%|██████████████████████████████████████████████████████████████| 100/100 [00:01<00:00, 50.04it/s]\n",
      "[QuaNet] epoch=24 [it=499/500]\ttr-mseloss=0.00011 tr-maeloss=0.00587\tval-mseloss=0.00002 val-maeloss=\n",
      "100%|██████████████████████████████████████████████████████████████| 100/100 [00:02<00:00, 48.69it/s]\n",
      "[QuaNet] epoch=25 [it=499/500]\ttr-mseloss=0.00020 tr-maeloss=0.00817\tval-mseloss=0.00012 val-maeloss=\n",
      "100%|██████████████████████████████████████████████████████████████| 100/100 [00:02<00:00, 49.36it/s]\n",
      "[QuaNet] epoch=26 [it=499/500]\ttr-mseloss=0.00015 tr-maeloss=0.00719\tval-mseloss=0.00007 val-maeloss=\n",
      "100%|██████████████████████████████████████████████████████████████| 100/100 [00:01<00:00, 50.36it/s]\n",
      "[QuaNet] epoch=27 [it=499/500]\ttr-mseloss=0.00013 tr-maeloss=0.00595\tval-mseloss=0.00001 val-maeloss=\n",
      "100%|██████████████████████████████████████████████████████████████| 100/100 [00:02<00:00, 49.94it/s]\n",
      "[QuaNet] epoch=28 [it=499/500]\ttr-mseloss=0.00019 tr-maeloss=0.00789\tval-mseloss=0.00014 val-maeloss=\n",
      "100%|██████████████████████████████████████████████████████████████| 100/100 [00:02<00:00, 49.64it/s]\n",
      "[QuaNet] epoch=29 [it=499/500]\ttr-mseloss=0.00012 tr-maeloss=0.00604\tval-mseloss=0.00003 val-maeloss=\n",
      "100%|██████████████████████████████████████████████████████████████| 100/100 [00:01<00:00, 50.01it/s]\n",
      "[QuaNet] epoch=30 [it=499/500]\ttr-mseloss=0.00010 tr-maeloss=0.00568\tval-mseloss=0.00001 val-maeloss=\n",
      "100%|██████████████████████████████████████████████████████████████| 100/100 [00:02<00:00, 47.77it/s]\n",
      "[QuaNet] epoch=31 [it=499/500]\ttr-mseloss=0.00014 tr-maeloss=0.00699\tval-mseloss=0.00010 val-maeloss=\n",
      "100%|██████████████████████████████████████████████████████████████| 100/100 [00:02<00:00, 46.88it/s]\n",
      "[QuaNet] epoch=32 [it=499/500]\ttr-mseloss=0.00020 tr-maeloss=0.00784\tval-mseloss=0.00005 val-maeloss=\n",
      "100%|██████████████████████████████████████████████████████████████| 100/100 [00:02<00:00, 49.25it/s]\n",
      "[QuaNet] epoch=33 [it=499/500]\ttr-mseloss=0.00015 tr-maeloss=0.00667\tval-mseloss=0.00001 val-maeloss=\n",
      "100%|██████████████████████████████████████████████████████████████| 100/100 [00:02<00:00, 48.75it/s]\n",
      "[QuaNet] epoch=34 [it=499/500]\ttr-mseloss=0.00012 tr-maeloss=0.00577\tval-mseloss=0.00006 val-maeloss=\n",
      "100%|██████████████████████████████████████████████████████████████| 100/100 [00:02<00:00, 48.63it/s]\n",
      "[QuaNet] epoch=35 [it=499/500]\ttr-mseloss=0.00017 tr-maeloss=0.00727\tval-mseloss=0.00003 val-maeloss=\n",
      "100%|██████████████████████████████████████████████████████████████| 100/100 [00:02<00:00, 46.08it/s]\n",
      "[QuaNet] epoch=36 [it=499/500]\ttr-mseloss=0.00014 tr-maeloss=0.00589\tval-mseloss=0.00016 val-maeloss=\n",
      "100%|██████████████████████████████████████████████████████████████| 100/100 [00:02<00:00, 47.17it/s]\n",
      "[QuaNet] epoch=37 [it=499/500]\ttr-mseloss=0.00016 tr-maeloss=0.00737\tval-mseloss=0.00008 val-maeloss=\n",
      "100%|██████████████████████████████████████████████████████████████| 100/100 [00:01<00:00, 51.48it/s]\n",
      "[QuaNet] epoch=38 [it=499/500]\ttr-mseloss=0.00016 tr-maeloss=0.00708\tval-mseloss=0.00002 val-maeloss=\n",
      "100%|██████████████████████████████████████████████████████████████| 100/100 [00:02<00:00, 47.42it/s]\n",
      "[QuaNet] epoch=39 [it=499/500]\ttr-mseloss=0.00010 tr-maeloss=0.00529\tval-mseloss=0.00006 val-maeloss=\n",
      "100%|██████████████████████████████████████████████████████████████| 100/100 [00:02<00:00, 46.16it/s]"
     ]
    },
    {
     "name": "stdout",
     "output_type": "stream",
     "text": [
      "training ended by patience exhausted; loading best model parameters in ../checkpoints/relations\\Quanet-Relations for epoch 29\n"
     ]
    },
    {
     "name": "stderr",
     "output_type": "stream",
     "text": [
      "\n",
      "C:\\Users\\Antonio\\anaconda3\\envs\\NLP\\Lib\\site-packages\\quapy\\method\\_neural.py:188: FutureWarning: You are using `torch.load` with `weights_only=False` (the current default value), which uses the default pickle module implicitly. It is possible to construct malicious pickle data which will execute arbitrary code during unpickling (See https://github.com/pytorch/pytorch/blob/main/SECURITY.md#untrusted-models for more details). In a future release, the default value for `weights_only` will be flipped to `True`. This limits the functions that could be executed during unpickling. Arbitrary objects will no longer be allowed to be loaded via this mode unless they are explicitly allowlisted by the user via `torch.serialization.add_safe_globals`. We recommend you start setting `weights_only=True` for any use case where you don't have full control of the loaded file. Please open an issue on GitHub for any issues related to this experimental feature.\n",
      "  self.quanet.load_state_dict(torch.load(checkpoint))\n"
     ]
    },
    {
     "data": {
      "text/html": [
       "<style>#sk-container-id-1 {\n",
       "  /* Definition of color scheme common for light and dark mode */\n",
       "  --sklearn-color-text: black;\n",
       "  --sklearn-color-line: gray;\n",
       "  /* Definition of color scheme for unfitted estimators */\n",
       "  --sklearn-color-unfitted-level-0: #fff5e6;\n",
       "  --sklearn-color-unfitted-level-1: #f6e4d2;\n",
       "  --sklearn-color-unfitted-level-2: #ffe0b3;\n",
       "  --sklearn-color-unfitted-level-3: chocolate;\n",
       "  /* Definition of color scheme for fitted estimators */\n",
       "  --sklearn-color-fitted-level-0: #f0f8ff;\n",
       "  --sklearn-color-fitted-level-1: #d4ebff;\n",
       "  --sklearn-color-fitted-level-2: #b3dbfd;\n",
       "  --sklearn-color-fitted-level-3: cornflowerblue;\n",
       "\n",
       "  /* Specific color for light theme */\n",
       "  --sklearn-color-text-on-default-background: var(--sg-text-color, var(--theme-code-foreground, var(--jp-content-font-color1, black)));\n",
       "  --sklearn-color-background: var(--sg-background-color, var(--theme-background, var(--jp-layout-color0, white)));\n",
       "  --sklearn-color-border-box: var(--sg-text-color, var(--theme-code-foreground, var(--jp-content-font-color1, black)));\n",
       "  --sklearn-color-icon: #696969;\n",
       "\n",
       "  @media (prefers-color-scheme: dark) {\n",
       "    /* Redefinition of color scheme for dark theme */\n",
       "    --sklearn-color-text-on-default-background: var(--sg-text-color, var(--theme-code-foreground, var(--jp-content-font-color1, white)));\n",
       "    --sklearn-color-background: var(--sg-background-color, var(--theme-background, var(--jp-layout-color0, #111)));\n",
       "    --sklearn-color-border-box: var(--sg-text-color, var(--theme-code-foreground, var(--jp-content-font-color1, white)));\n",
       "    --sklearn-color-icon: #878787;\n",
       "  }\n",
       "}\n",
       "\n",
       "#sk-container-id-1 {\n",
       "  color: var(--sklearn-color-text);\n",
       "}\n",
       "\n",
       "#sk-container-id-1 pre {\n",
       "  padding: 0;\n",
       "}\n",
       "\n",
       "#sk-container-id-1 input.sk-hidden--visually {\n",
       "  border: 0;\n",
       "  clip: rect(1px 1px 1px 1px);\n",
       "  clip: rect(1px, 1px, 1px, 1px);\n",
       "  height: 1px;\n",
       "  margin: -1px;\n",
       "  overflow: hidden;\n",
       "  padding: 0;\n",
       "  position: absolute;\n",
       "  width: 1px;\n",
       "}\n",
       "\n",
       "#sk-container-id-1 div.sk-dashed-wrapped {\n",
       "  border: 1px dashed var(--sklearn-color-line);\n",
       "  margin: 0 0.4em 0.5em 0.4em;\n",
       "  box-sizing: border-box;\n",
       "  padding-bottom: 0.4em;\n",
       "  background-color: var(--sklearn-color-background);\n",
       "}\n",
       "\n",
       "#sk-container-id-1 div.sk-container {\n",
       "  /* jupyter's `normalize.less` sets `[hidden] { display: none; }`\n",
       "     but bootstrap.min.css set `[hidden] { display: none !important; }`\n",
       "     so we also need the `!important` here to be able to override the\n",
       "     default hidden behavior on the sphinx rendered scikit-learn.org.\n",
       "     See: https://github.com/scikit-learn/scikit-learn/issues/21755 */\n",
       "  display: inline-block !important;\n",
       "  position: relative;\n",
       "}\n",
       "\n",
       "#sk-container-id-1 div.sk-text-repr-fallback {\n",
       "  display: none;\n",
       "}\n",
       "\n",
       "div.sk-parallel-item,\n",
       "div.sk-serial,\n",
       "div.sk-item {\n",
       "  /* draw centered vertical line to link estimators */\n",
       "  background-image: linear-gradient(var(--sklearn-color-text-on-default-background), var(--sklearn-color-text-on-default-background));\n",
       "  background-size: 2px 100%;\n",
       "  background-repeat: no-repeat;\n",
       "  background-position: center center;\n",
       "}\n",
       "\n",
       "/* Parallel-specific style estimator block */\n",
       "\n",
       "#sk-container-id-1 div.sk-parallel-item::after {\n",
       "  content: \"\";\n",
       "  width: 100%;\n",
       "  border-bottom: 2px solid var(--sklearn-color-text-on-default-background);\n",
       "  flex-grow: 1;\n",
       "}\n",
       "\n",
       "#sk-container-id-1 div.sk-parallel {\n",
       "  display: flex;\n",
       "  align-items: stretch;\n",
       "  justify-content: center;\n",
       "  background-color: var(--sklearn-color-background);\n",
       "  position: relative;\n",
       "}\n",
       "\n",
       "#sk-container-id-1 div.sk-parallel-item {\n",
       "  display: flex;\n",
       "  flex-direction: column;\n",
       "}\n",
       "\n",
       "#sk-container-id-1 div.sk-parallel-item:first-child::after {\n",
       "  align-self: flex-end;\n",
       "  width: 50%;\n",
       "}\n",
       "\n",
       "#sk-container-id-1 div.sk-parallel-item:last-child::after {\n",
       "  align-self: flex-start;\n",
       "  width: 50%;\n",
       "}\n",
       "\n",
       "#sk-container-id-1 div.sk-parallel-item:only-child::after {\n",
       "  width: 0;\n",
       "}\n",
       "\n",
       "/* Serial-specific style estimator block */\n",
       "\n",
       "#sk-container-id-1 div.sk-serial {\n",
       "  display: flex;\n",
       "  flex-direction: column;\n",
       "  align-items: center;\n",
       "  background-color: var(--sklearn-color-background);\n",
       "  padding-right: 1em;\n",
       "  padding-left: 1em;\n",
       "}\n",
       "\n",
       "\n",
       "/* Toggleable style: style used for estimator/Pipeline/ColumnTransformer box that is\n",
       "clickable and can be expanded/collapsed.\n",
       "- Pipeline and ColumnTransformer use this feature and define the default style\n",
       "- Estimators will overwrite some part of the style using the `sk-estimator` class\n",
       "*/\n",
       "\n",
       "/* Pipeline and ColumnTransformer style (default) */\n",
       "\n",
       "#sk-container-id-1 div.sk-toggleable {\n",
       "  /* Default theme specific background. It is overwritten whether we have a\n",
       "  specific estimator or a Pipeline/ColumnTransformer */\n",
       "  background-color: var(--sklearn-color-background);\n",
       "}\n",
       "\n",
       "/* Toggleable label */\n",
       "#sk-container-id-1 label.sk-toggleable__label {\n",
       "  cursor: pointer;\n",
       "  display: block;\n",
       "  width: 100%;\n",
       "  margin-bottom: 0;\n",
       "  padding: 0.5em;\n",
       "  box-sizing: border-box;\n",
       "  text-align: center;\n",
       "}\n",
       "\n",
       "#sk-container-id-1 label.sk-toggleable__label-arrow:before {\n",
       "  /* Arrow on the left of the label */\n",
       "  content: \"▸\";\n",
       "  float: left;\n",
       "  margin-right: 0.25em;\n",
       "  color: var(--sklearn-color-icon);\n",
       "}\n",
       "\n",
       "#sk-container-id-1 label.sk-toggleable__label-arrow:hover:before {\n",
       "  color: var(--sklearn-color-text);\n",
       "}\n",
       "\n",
       "/* Toggleable content - dropdown */\n",
       "\n",
       "#sk-container-id-1 div.sk-toggleable__content {\n",
       "  max-height: 0;\n",
       "  max-width: 0;\n",
       "  overflow: hidden;\n",
       "  text-align: left;\n",
       "  /* unfitted */\n",
       "  background-color: var(--sklearn-color-unfitted-level-0);\n",
       "}\n",
       "\n",
       "#sk-container-id-1 div.sk-toggleable__content.fitted {\n",
       "  /* fitted */\n",
       "  background-color: var(--sklearn-color-fitted-level-0);\n",
       "}\n",
       "\n",
       "#sk-container-id-1 div.sk-toggleable__content pre {\n",
       "  margin: 0.2em;\n",
       "  border-radius: 0.25em;\n",
       "  color: var(--sklearn-color-text);\n",
       "  /* unfitted */\n",
       "  background-color: var(--sklearn-color-unfitted-level-0);\n",
       "}\n",
       "\n",
       "#sk-container-id-1 div.sk-toggleable__content.fitted pre {\n",
       "  /* unfitted */\n",
       "  background-color: var(--sklearn-color-fitted-level-0);\n",
       "}\n",
       "\n",
       "#sk-container-id-1 input.sk-toggleable__control:checked~div.sk-toggleable__content {\n",
       "  /* Expand drop-down */\n",
       "  max-height: 200px;\n",
       "  max-width: 100%;\n",
       "  overflow: auto;\n",
       "}\n",
       "\n",
       "#sk-container-id-1 input.sk-toggleable__control:checked~label.sk-toggleable__label-arrow:before {\n",
       "  content: \"▾\";\n",
       "}\n",
       "\n",
       "/* Pipeline/ColumnTransformer-specific style */\n",
       "\n",
       "#sk-container-id-1 div.sk-label input.sk-toggleable__control:checked~label.sk-toggleable__label {\n",
       "  color: var(--sklearn-color-text);\n",
       "  background-color: var(--sklearn-color-unfitted-level-2);\n",
       "}\n",
       "\n",
       "#sk-container-id-1 div.sk-label.fitted input.sk-toggleable__control:checked~label.sk-toggleable__label {\n",
       "  background-color: var(--sklearn-color-fitted-level-2);\n",
       "}\n",
       "\n",
       "/* Estimator-specific style */\n",
       "\n",
       "/* Colorize estimator box */\n",
       "#sk-container-id-1 div.sk-estimator input.sk-toggleable__control:checked~label.sk-toggleable__label {\n",
       "  /* unfitted */\n",
       "  background-color: var(--sklearn-color-unfitted-level-2);\n",
       "}\n",
       "\n",
       "#sk-container-id-1 div.sk-estimator.fitted input.sk-toggleable__control:checked~label.sk-toggleable__label {\n",
       "  /* fitted */\n",
       "  background-color: var(--sklearn-color-fitted-level-2);\n",
       "}\n",
       "\n",
       "#sk-container-id-1 div.sk-label label.sk-toggleable__label,\n",
       "#sk-container-id-1 div.sk-label label {\n",
       "  /* The background is the default theme color */\n",
       "  color: var(--sklearn-color-text-on-default-background);\n",
       "}\n",
       "\n",
       "/* On hover, darken the color of the background */\n",
       "#sk-container-id-1 div.sk-label:hover label.sk-toggleable__label {\n",
       "  color: var(--sklearn-color-text);\n",
       "  background-color: var(--sklearn-color-unfitted-level-2);\n",
       "}\n",
       "\n",
       "/* Label box, darken color on hover, fitted */\n",
       "#sk-container-id-1 div.sk-label.fitted:hover label.sk-toggleable__label.fitted {\n",
       "  color: var(--sklearn-color-text);\n",
       "  background-color: var(--sklearn-color-fitted-level-2);\n",
       "}\n",
       "\n",
       "/* Estimator label */\n",
       "\n",
       "#sk-container-id-1 div.sk-label label {\n",
       "  font-family: monospace;\n",
       "  font-weight: bold;\n",
       "  display: inline-block;\n",
       "  line-height: 1.2em;\n",
       "}\n",
       "\n",
       "#sk-container-id-1 div.sk-label-container {\n",
       "  text-align: center;\n",
       "}\n",
       "\n",
       "/* Estimator-specific */\n",
       "#sk-container-id-1 div.sk-estimator {\n",
       "  font-family: monospace;\n",
       "  border: 1px dotted var(--sklearn-color-border-box);\n",
       "  border-radius: 0.25em;\n",
       "  box-sizing: border-box;\n",
       "  margin-bottom: 0.5em;\n",
       "  /* unfitted */\n",
       "  background-color: var(--sklearn-color-unfitted-level-0);\n",
       "}\n",
       "\n",
       "#sk-container-id-1 div.sk-estimator.fitted {\n",
       "  /* fitted */\n",
       "  background-color: var(--sklearn-color-fitted-level-0);\n",
       "}\n",
       "\n",
       "/* on hover */\n",
       "#sk-container-id-1 div.sk-estimator:hover {\n",
       "  /* unfitted */\n",
       "  background-color: var(--sklearn-color-unfitted-level-2);\n",
       "}\n",
       "\n",
       "#sk-container-id-1 div.sk-estimator.fitted:hover {\n",
       "  /* fitted */\n",
       "  background-color: var(--sklearn-color-fitted-level-2);\n",
       "}\n",
       "\n",
       "/* Specification for estimator info (e.g. \"i\" and \"?\") */\n",
       "\n",
       "/* Common style for \"i\" and \"?\" */\n",
       "\n",
       ".sk-estimator-doc-link,\n",
       "a:link.sk-estimator-doc-link,\n",
       "a:visited.sk-estimator-doc-link {\n",
       "  float: right;\n",
       "  font-size: smaller;\n",
       "  line-height: 1em;\n",
       "  font-family: monospace;\n",
       "  background-color: var(--sklearn-color-background);\n",
       "  border-radius: 1em;\n",
       "  height: 1em;\n",
       "  width: 1em;\n",
       "  text-decoration: none !important;\n",
       "  margin-left: 1ex;\n",
       "  /* unfitted */\n",
       "  border: var(--sklearn-color-unfitted-level-1) 1pt solid;\n",
       "  color: var(--sklearn-color-unfitted-level-1);\n",
       "}\n",
       "\n",
       ".sk-estimator-doc-link.fitted,\n",
       "a:link.sk-estimator-doc-link.fitted,\n",
       "a:visited.sk-estimator-doc-link.fitted {\n",
       "  /* fitted */\n",
       "  border: var(--sklearn-color-fitted-level-1) 1pt solid;\n",
       "  color: var(--sklearn-color-fitted-level-1);\n",
       "}\n",
       "\n",
       "/* On hover */\n",
       "div.sk-estimator:hover .sk-estimator-doc-link:hover,\n",
       ".sk-estimator-doc-link:hover,\n",
       "div.sk-label-container:hover .sk-estimator-doc-link:hover,\n",
       ".sk-estimator-doc-link:hover {\n",
       "  /* unfitted */\n",
       "  background-color: var(--sklearn-color-unfitted-level-3);\n",
       "  color: var(--sklearn-color-background);\n",
       "  text-decoration: none;\n",
       "}\n",
       "\n",
       "div.sk-estimator.fitted:hover .sk-estimator-doc-link.fitted:hover,\n",
       ".sk-estimator-doc-link.fitted:hover,\n",
       "div.sk-label-container:hover .sk-estimator-doc-link.fitted:hover,\n",
       ".sk-estimator-doc-link.fitted:hover {\n",
       "  /* fitted */\n",
       "  background-color: var(--sklearn-color-fitted-level-3);\n",
       "  color: var(--sklearn-color-background);\n",
       "  text-decoration: none;\n",
       "}\n",
       "\n",
       "/* Span, style for the box shown on hovering the info icon */\n",
       ".sk-estimator-doc-link span {\n",
       "  display: none;\n",
       "  z-index: 9999;\n",
       "  position: relative;\n",
       "  font-weight: normal;\n",
       "  right: .2ex;\n",
       "  padding: .5ex;\n",
       "  margin: .5ex;\n",
       "  width: min-content;\n",
       "  min-width: 20ex;\n",
       "  max-width: 50ex;\n",
       "  color: var(--sklearn-color-text);\n",
       "  box-shadow: 2pt 2pt 4pt #999;\n",
       "  /* unfitted */\n",
       "  background: var(--sklearn-color-unfitted-level-0);\n",
       "  border: .5pt solid var(--sklearn-color-unfitted-level-3);\n",
       "}\n",
       "\n",
       ".sk-estimator-doc-link.fitted span {\n",
       "  /* fitted */\n",
       "  background: var(--sklearn-color-fitted-level-0);\n",
       "  border: var(--sklearn-color-fitted-level-3);\n",
       "}\n",
       "\n",
       ".sk-estimator-doc-link:hover span {\n",
       "  display: block;\n",
       "}\n",
       "\n",
       "/* \"?\"-specific style due to the `<a>` HTML tag */\n",
       "\n",
       "#sk-container-id-1 a.estimator_doc_link {\n",
       "  float: right;\n",
       "  font-size: 1rem;\n",
       "  line-height: 1em;\n",
       "  font-family: monospace;\n",
       "  background-color: var(--sklearn-color-background);\n",
       "  border-radius: 1rem;\n",
       "  height: 1rem;\n",
       "  width: 1rem;\n",
       "  text-decoration: none;\n",
       "  /* unfitted */\n",
       "  color: var(--sklearn-color-unfitted-level-1);\n",
       "  border: var(--sklearn-color-unfitted-level-1) 1pt solid;\n",
       "}\n",
       "\n",
       "#sk-container-id-1 a.estimator_doc_link.fitted {\n",
       "  /* fitted */\n",
       "  border: var(--sklearn-color-fitted-level-1) 1pt solid;\n",
       "  color: var(--sklearn-color-fitted-level-1);\n",
       "}\n",
       "\n",
       "/* On hover */\n",
       "#sk-container-id-1 a.estimator_doc_link:hover {\n",
       "  /* unfitted */\n",
       "  background-color: var(--sklearn-color-unfitted-level-3);\n",
       "  color: var(--sklearn-color-background);\n",
       "  text-decoration: none;\n",
       "}\n",
       "\n",
       "#sk-container-id-1 a.estimator_doc_link.fitted:hover {\n",
       "  /* fitted */\n",
       "  background-color: var(--sklearn-color-fitted-level-3);\n",
       "}\n",
       "</style><div id=\"sk-container-id-1\" class=\"sk-top-container\"><div class=\"sk-text-repr-fallback\"><pre>QuaNetTrainer(classifier__batch_size=64, classifier__batch_size_test=512,\n",
       "              classifier__device=device(type=&#x27;cpu&#x27;), classifier__drop_p=0.5,\n",
       "              classifier__embedding_size=195, classifier__epochs=200,\n",
       "              classifier__hidden_size=278, classifier__kernel_heights=[3, 5, 7],\n",
       "              classifier__lr=0.001, classifier__padding_length=107,\n",
       "              classifier__patience=10, classifier__repr_size=100,\n",
       "              classifier__stride=1, classifier__weight_decay=0, qdrop_p=0)</pre><b>In a Jupyter environment, please rerun this cell to show the HTML representation or trust the notebook. <br />On GitHub, the HTML representation is unable to render, please try loading this page with nbviewer.org.</b></div><div class=\"sk-container\" hidden><div class=\"sk-item\"><div class=\"sk-estimator fitted sk-toggleable\"><input class=\"sk-toggleable__control sk-hidden--visually\" id=\"sk-estimator-id-1\" type=\"checkbox\" checked><label for=\"sk-estimator-id-1\" class=\"sk-toggleable__label fitted sk-toggleable__label-arrow fitted\">&nbsp;QuaNetTrainer<span class=\"sk-estimator-doc-link fitted\">i<span>Fitted</span></span></label><div class=\"sk-toggleable__content fitted\"><pre>QuaNetTrainer(classifier__batch_size=64, classifier__batch_size_test=512,\n",
       "              classifier__device=device(type=&#x27;cpu&#x27;), classifier__drop_p=0.5,\n",
       "              classifier__embedding_size=195, classifier__epochs=200,\n",
       "              classifier__hidden_size=278, classifier__kernel_heights=[3, 5, 7],\n",
       "              classifier__lr=0.001, classifier__padding_length=107,\n",
       "              classifier__patience=10, classifier__repr_size=100,\n",
       "              classifier__stride=1, classifier__weight_decay=0, qdrop_p=0)</pre></div> </div></div></div></div>"
      ],
      "text/plain": [
       "QuaNetTrainer(classifier__batch_size=64, classifier__batch_size_test=512,\n",
       "              classifier__device=device(type='cpu'), classifier__drop_p=0.5,\n",
       "              classifier__embedding_size=195, classifier__epochs=200,\n",
       "              classifier__hidden_size=278, classifier__kernel_heights=[3, 5, 7],\n",
       "              classifier__lr=0.001, classifier__padding_length=107,\n",
       "              classifier__patience=10, classifier__repr_size=100,\n",
       "              classifier__stride=1, classifier__weight_decay=0, qdrop_p=0)"
      ]
     },
     "execution_count": 17,
     "metadata": {},
     "output_type": "execute_result"
    }
   ],
   "source": [
    "# train QuaNet (alternatively, we can set fit_classifier=True and let QuaNet train the classifier)\n",
    "set_seed(42)\n",
    "\n",
    "quantifier = QuaNet(cnn_classifier, qp.environ['SAMPLE_SIZE'], qdrop_p=0, device='cpu', checkpointdir='../checkpoints/relations', checkpointname='Quanet-Relations')\n",
    "quantifier.fit(abs_dataset.training, fit_classifier=False)"
   ]
  },
  {
   "cell_type": "code",
   "execution_count": 26,
   "id": "7d8f9f37-f3ef-42c1-a148-84dffb5558f2",
   "metadata": {},
   "outputs": [
    {
     "name": "stdout",
     "output_type": "stream",
     "text": [
      "- Train set:\n",
      "Error Metric\tStandard\tByDoc (n=1)\tByDoc (n=3)\tByDoc (n=5)\tByDoc (n=10)\tByDoc (n=13)\tByDoc (n=15)\n",
      "------------\t--------\t-----------\t-----------\t-----------\t------------\t------------\t------------\n",
      "AE             \t0.0004         \t0.0026         \t0.0021         \t0.0019         \t0.0016         \t0.0014         \t0.0018         \n",
      "RAE            \t0.0009         \t0.0069         \t0.0047         \t0.0041         \t0.0034         \t0.0031         \t0.0039         \n",
      "MSE            \t0.0000         \t0.0000         \t0.0000         \t0.0000         \t0.0000         \t0.0000         \t0.0000         \n",
      "MAE            \t0.0004         \t0.0026         \t0.0021         \t0.0019         \t0.0016         \t0.0014         \t0.0018         \n",
      "MRAE           \t0.0009         \t0.0069         \t0.0047         \t0.0041         \t0.0034         \t0.0031         \t0.0039         \n",
      "MKLD           \t0.0000         \t0.0001         \t0.0000         \t0.0000         \t0.0000         \t0.0000         \t0.0000         \n",
      "- Val set:\n",
      "Error Metric\tStandard\tByDoc (n=1)\tByDoc (n=3)\tByDoc (n=5)\tByDoc (n=10)\tByDoc (n=13)\tByDoc (n=15)\n",
      "------------\t--------\t-----------\t-----------\t-----------\t------------\t------------\t------------\n",
      "AE             \t0.0407         \t0.0831         \t0.0551         \t0.0489         \t0.0406         \t0.0434         \t0.0547         \n",
      "RAE            \t0.0873         \t0.1834         \t0.1129         \t0.1023         \t0.0856         \t0.0904         \t0.1112         \n",
      "MSE            \t0.0017         \t0.0126         \t0.0077         \t0.0034         \t0.0023         \t0.0026         \t0.0043         \n",
      "MAE            \t0.0407         \t0.0831         \t0.0551         \t0.0489         \t0.0406         \t0.0434         \t0.0547         \n",
      "MRAE           \t0.0873         \t0.1834         \t0.1129         \t0.1023         \t0.0856         \t0.0904         \t0.1112         \n",
      "MKLD           \t0.0035         \t0.0337         \t0.0161         \t0.0067         \t0.0047         \t0.0052         \t0.0085         \n",
      "- Glaucoma test set:\n",
      "Error Metric\tStandard\tByDoc (n=1)\tByDoc (n=3)\tByDoc (n=5)\tByDoc (n=10)\tByDoc (n=13)\tByDoc (n=15)\n",
      "------------\t--------\t-----------\t-----------\t-----------\t------------\t------------\t------------\n",
      "AE             \t0.1110         \t0.1404         \t0.1196         \t0.1125         \t0.1097         \t0.1100         \t0.1101         \n",
      "RAE            \t0.2529         \t0.4652         \t0.2893         \t0.2655         \t0.2528         \t0.2521         \t0.2515         \n",
      "MSE            \t0.0123         \t0.0338         \t0.0197         \t0.0164         \t0.0139         \t0.0141         \t0.0137         \n",
      "MAE            \t0.1110         \t0.1404         \t0.1196         \t0.1125         \t0.1097         \t0.1100         \t0.1101         \n",
      "MRAE           \t0.2529         \t0.4652         \t0.2893         \t0.2655         \t0.2528         \t0.2521         \t0.2515         \n",
      "MKLD           \t0.0233         \t0.0652         \t0.0369         \t0.0307         \t0.0261         \t0.0263         \t0.0256         \n",
      "- Neoplasm test set:\n",
      "Error Metric\tStandard\tByDoc (n=1)\tByDoc (n=3)\tByDoc (n=5)\tByDoc (n=10)\tByDoc (n=13)\tByDoc (n=15)\n",
      "------------\t--------\t-----------\t-----------\t-----------\t------------\t------------\t------------\n",
      "AE             \t0.0175         \t0.1104         \t0.0686         \t0.0525         \t0.0465         \t0.0466         \t0.0432         \n",
      "RAE            \t0.0368         \t0.2594         \t0.1497         \t0.1098         \t0.0987         \t0.0991         \t0.0908         \n",
      "MSE            \t0.0003         \t0.0194         \t0.0071         \t0.0046         \t0.0031         \t0.0025         \t0.0023         \n",
      "MAE            \t0.0175         \t0.1104         \t0.0686         \t0.0525         \t0.0465         \t0.0466         \t0.0432         \n",
      "MRAE           \t0.0368         \t0.2594         \t0.1497         \t0.1098         \t0.0987         \t0.0991         \t0.0908         \n",
      "MKLD           \t0.0006         \t0.0435         \t0.0146         \t0.0091         \t0.0064         \t0.0051         \t0.0047         \n",
      "- Mixed test set:\n",
      "Error Metric\tStandard\tByDoc (n=1)\tByDoc (n=3)\tByDoc (n=5)\tByDoc (n=10)\tByDoc (n=13)\tByDoc (n=15)\n",
      "------------\t--------\t-----------\t-----------\t-----------\t------------\t------------\t------------\n",
      "AE             \t0.0655         \t0.1364         \t0.0858         \t0.0741         \t0.0633         \t0.0661         \t0.0659         \n",
      "RAE            \t0.1503         \t0.4005         \t0.2134         \t0.1782         \t0.1511         \t0.1553         \t0.1546         \n",
      "MSE            \t0.0043         \t0.0309         \t0.0114         \t0.0079         \t0.0058         \t0.0057         \t0.0051         \n",
      "MAE            \t0.0655         \t0.1364         \t0.0858         \t0.0741         \t0.0633         \t0.0661         \t0.0659         \n",
      "MRAE           \t0.1503         \t0.4005         \t0.2134         \t0.1782         \t0.1511         \t0.1553         \t0.1546         \n",
      "MKLD           \t0.0085         \t0.0630         \t0.0225         \t0.0155         \t0.0115         \t0.0112         \t0.0101         \n"
     ]
    }
   ],
   "source": [
    "print('- Train set:')\n",
    "result_train = evaluate(collection=abs_dataset.training, n=[1,3,5,10, qp.environ['SAMPLE_SIZE'], 15], quantifier=quantifier)\n",
    "\n",
    "print('- Val set:')\n",
    "result_train = evaluate(collection=abs_dataset.val, n=[1,3,5,10, qp.environ['SAMPLE_SIZE'], 15], quantifier=quantifier)\n",
    "\n",
    "print('- Glaucoma test set:')\n",
    "result_test = evaluate(collection=glaucoma_collection, n=[1,3,5,10, qp.environ['SAMPLE_SIZE'], 15], quantifier=quantifier)\n",
    "\n",
    "print('- Neoplasm test set:')\n",
    "result_test = evaluate(collection=neoplasm_collection, n=[1,3,5,10, qp.environ['SAMPLE_SIZE'], 15], quantifier=quantifier)\n",
    "\n",
    "print('- Mixed test set:')\n",
    "result_test = evaluate(collection=mixed_collection, n=[1,3,5,10, qp.environ['SAMPLE_SIZE'], 15], quantifier=quantifier)"
   ]
  },
  {
   "cell_type": "markdown",
   "id": "4a2784f5-4a51-4f26-aad1-ada9a77ba52d",
   "metadata": {},
   "source": [
    "As expected, results are once again slightly worse, reflecting the increased difficulty of the task."
   ]
  },
  {
   "cell_type": "code",
   "execution_count": null,
   "id": "8d4fcaf7-1cbd-4b79-b6de-ee445d388465",
   "metadata": {},
   "outputs": [],
   "source": [
    "infer(test_set, indexer, comp_quantifier=None, comp_classifier=None, rel_quantifier=quantifier, rel_classifier=cnn_classifier, filename=None, use_tokenizer=True)"
   ]
  }
 ],
 "metadata": {
  "kernelspec": {
   "display_name": "Python 3 (ipykernel)",
   "language": "python",
   "name": "python3"
  },
  "language_info": {
   "codemirror_mode": {
    "name": "ipython",
    "version": 3
   },
   "file_extension": ".py",
   "mimetype": "text/x-python",
   "name": "python",
   "nbconvert_exporter": "python",
   "pygments_lexer": "ipython3",
   "version": "3.12.5"
  }
 },
 "nbformat": 4,
 "nbformat_minor": 5
}
